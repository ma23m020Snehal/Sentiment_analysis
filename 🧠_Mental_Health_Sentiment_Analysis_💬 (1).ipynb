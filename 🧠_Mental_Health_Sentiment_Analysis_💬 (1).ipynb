{
  "metadata": {
    "kernelspec": {
      "display_name": "Python 3",
      "language": "python",
      "name": "python3"
    },
    "language_info": {
      "name": "python",
      "version": "3.10.13",
      "mimetype": "text/x-python",
      "codemirror_mode": {
        "name": "ipython",
        "version": 3
      },
      "pygments_lexer": "ipython3",
      "nbconvert_exporter": "python",
      "file_extension": ".py"
    },
    "kaggle": {
      "accelerator": "none",
      "dataSources": [
        {
          "sourceId": 8870083,
          "sourceType": "datasetVersion",
          "datasetId": 5338273
        }
      ],
      "dockerImageVersionId": 30746,
      "isInternetEnabled": false,
      "language": "python",
      "sourceType": "notebook",
      "isGpuEnabled": false
    },
    "colab": {
      "provenance": []
    }
  },
  "nbformat_minor": 0,
  "nbformat": 4,
  "cells": [
    {
      "source": [
        "\n",
        "# IMPORTANT: RUN THIS CELL IN ORDER TO IMPORT YOUR KAGGLE DATA SOURCES\n",
        "# TO THE CORRECT LOCATION (/kaggle/input) IN YOUR NOTEBOOK,\n",
        "# THEN FEEL FREE TO DELETE THIS CELL.\n",
        "# NOTE: THIS NOTEBOOK ENVIRONMENT DIFFERS FROM KAGGLE'S PYTHON\n",
        "# ENVIRONMENT SO THERE MAY BE MISSING LIBRARIES USED BY YOUR\n",
        "# NOTEBOOK.\n",
        "\n",
        "import os\n",
        "import sys\n",
        "from tempfile import NamedTemporaryFile\n",
        "from urllib.request import urlopen\n",
        "from urllib.parse import unquote, urlparse\n",
        "from urllib.error import HTTPError\n",
        "from zipfile import ZipFile\n",
        "import tarfile\n",
        "import shutil\n",
        "\n",
        "CHUNK_SIZE = 40960\n",
        "DATA_SOURCE_MAPPING = 'sentiment-analysis-for-mental-health:https%3A%2F%2Fstorage.googleapis.com%2Fkaggle-data-sets%2F5338273%2F8870083%2Fbundle%2Farchive.zip%3FX-Goog-Algorithm%3DGOOG4-RSA-SHA256%26X-Goog-Credential%3Dgcp-kaggle-com%2540kaggle-161607.iam.gserviceaccount.com%252F20240818%252Fauto%252Fstorage%252Fgoog4_request%26X-Goog-Date%3D20240818T055536Z%26X-Goog-Expires%3D259200%26X-Goog-SignedHeaders%3Dhost%26X-Goog-Signature%3D1439d7cfb83f74c4c7faa3bf246ce461769b05ab14b2cb8691951220d6e3aa6c24b2b1432edb4179cccdb212053bc0dc82fac49a766bf1b2eb571c3ccdba5306ef18305a96566d522841847fc54c31218f8cd03e0e699bf4ca30000c3f7230978414aad8471c36e3f50532a823375a6b1f9fa477750f03402663da6e843b59804de6fcc994ace9129ac89cdfb36f9043a19bc699bc39e0d214e8b7803810fe9f528ca08924eed8ed8dc8956998fa6503b5b4581ab1bf18b3e378d63af7dd6f7a895b71e8d4fe2630e1a5ceb224de07518172898b9f1e938ca1c283744a58e27b2fbe275e78243ecc72f0d9d1a3ee2464f7197cc5ac6491a130178e70c0ab4353'\n",
        "\n",
        "KAGGLE_INPUT_PATH='/kaggle/input'\n",
        "KAGGLE_WORKING_PATH='/kaggle/working'\n",
        "KAGGLE_SYMLINK='kaggle'\n",
        "\n",
        "!umount /kaggle/input/ 2> /dev/null\n",
        "shutil.rmtree('/kaggle/input', ignore_errors=True)\n",
        "os.makedirs(KAGGLE_INPUT_PATH, 0o777, exist_ok=True)\n",
        "os.makedirs(KAGGLE_WORKING_PATH, 0o777, exist_ok=True)\n",
        "\n",
        "try:\n",
        "  os.symlink(KAGGLE_INPUT_PATH, os.path.join(\"..\", 'input'), target_is_directory=True)\n",
        "except FileExistsError:\n",
        "  pass\n",
        "try:\n",
        "  os.symlink(KAGGLE_WORKING_PATH, os.path.join(\"..\", 'working'), target_is_directory=True)\n",
        "except FileExistsError:\n",
        "  pass\n",
        "\n",
        "for data_source_mapping in DATA_SOURCE_MAPPING.split(','):\n",
        "    directory, download_url_encoded = data_source_mapping.split(':')\n",
        "    download_url = unquote(download_url_encoded)\n",
        "    filename = urlparse(download_url).path\n",
        "    destination_path = os.path.join(KAGGLE_INPUT_PATH, directory)\n",
        "    try:\n",
        "        with urlopen(download_url) as fileres, NamedTemporaryFile() as tfile:\n",
        "            total_length = fileres.headers['content-length']\n",
        "            print(f'Downloading {directory}, {total_length} bytes compressed')\n",
        "            dl = 0\n",
        "            data = fileres.read(CHUNK_SIZE)\n",
        "            while len(data) > 0:\n",
        "                dl += len(data)\n",
        "                tfile.write(data)\n",
        "                done = int(50 * dl / int(total_length))\n",
        "                sys.stdout.write(f\"\\r[{'=' * done}{' ' * (50-done)}] {dl} bytes downloaded\")\n",
        "                sys.stdout.flush()\n",
        "                data = fileres.read(CHUNK_SIZE)\n",
        "            if filename.endswith('.zip'):\n",
        "              with ZipFile(tfile) as zfile:\n",
        "                zfile.extractall(destination_path)\n",
        "            else:\n",
        "              with tarfile.open(tfile.name) as tarfile:\n",
        "                tarfile.extractall(destination_path)\n",
        "            print(f'\\nDownloaded and uncompressed: {directory}')\n",
        "    except HTTPError as e:\n",
        "        print(f'Failed to load (likely expired) {download_url} to path {destination_path}')\n",
        "        continue\n",
        "    except OSError as e:\n",
        "        print(f'Failed to load {download_url} to path {destination_path}')\n",
        "        continue\n",
        "\n",
        "print('Data source import complete.')\n"
      ],
      "metadata": {
        "id": "qZrZZvCfDiov",
        "outputId": "76b2a0af-f0ce-461c-f826-1553d9613320",
        "colab": {
          "base_uri": "https://localhost:8080/"
        },
        "collapsed": true
      },
      "cell_type": "code",
      "outputs": [
        {
          "output_type": "stream",
          "name": "stdout",
          "text": [
            "Downloading sentiment-analysis-for-mental-health, 11587194 bytes compressed\n",
            "[==================================================] 11587194 bytes downloaded\n",
            "Downloaded and uncompressed: sentiment-analysis-for-mental-health\n",
            "Data source import complete.\n"
          ]
        }
      ],
      "execution_count": 2
    },
    {
      "cell_type": "markdown",
      "source": [
        "# 🧠 **Mental Health Sentiment Analysis** 📊\n",
        "\n",
        "## 📋 **Project Overview** 📝\n",
        "\n",
        "This project focuses on analyzing sentiments related to mental health issues. The primary goal is to classify text data into different mental health categories to better understand public sentiment and address mental health concerns effectively. 💬🔍\n",
        "\n",
        "### 🎯 **Main Issues** 📌\n",
        "\n",
        "The analysis deals with the following mental health issues:\n",
        "\n",
        "- **Anxiety** 😰: Feeling of worry, nervousness, or unease.\n",
        "- **Normal** 🙂: State of mental well-being without specific issues.\n",
        "- **Depression** 😢: Persistent feelings of sadness and loss of interest.\n",
        "- **Suicidal** 💔: Thoughts or actions related to self-harm or ending one's life.\n",
        "- **Stress** 😓: Mental or emotional strain resulting from adverse or demanding circumstances.\n",
        "- **Bipolar** 🔄: Mood disorder characterized by extreme highs and lows.\n",
        "- **Personality Disorder** 🤯: Patterns of behavior that deviate from cultural expectations, causing distress or impairment.\n",
        "\n",
        "## 🔧 **Libraries Used** 🛠️\n",
        "\n",
        "To implement the sentiment analysis, the following libraries are utilized:\n",
        "\n",
        "- **Pandas** 🐼: For data manipulation and analysis.\n",
        "- **NumPy** 🔢: For numerical operations and handling arrays.\n",
        "- **Seaborn** 📉: For statistical data visualization.\n",
        "- **Matplotlib** 📊: For plotting graphs and visualizations.\n",
        "- **Scikit-learn** 📚: For machine learning algorithms and model evaluation.\n",
        "  - **TfidfVectorizer** 📑: For converting text data into numerical vectors.\n",
        "  - **RandomForestClassifier** 🌲: For classification tasks using a forest of decision trees.\n",
        "  - **AdaBoostClassifier** 🚀: For boosting the performance of weak classifiers.\n",
        "  - **ExtraTreesClassifier** 🌳: For improving classification through extra-trees.\n",
        "  - **DecisionTreeClassifier** 🌲: For classification using decision trees.\n",
        "  - **LogisticRegression** 📈: For binary classification tasks.\n",
        "- **NLTK** 📚: For natural language processing tasks, including stemming.\n",
        "  - **PorterStemmer** ✂️: For reducing words to their root form.\n",
        "- **Joblib** 🛠️: For saving and loading models.\n",
        "\n",
        "## 🛠️ **Steps to Implement** 🔄\n",
        "\n",
        "1. **Data Preparation** 📂\n",
        "   - **Load Data** 📥: Import the dataset containing mental health-related texts and labels.\n",
        "   - **Clean Data** 🧹: Handle missing values, remove unnecessary columns, and preprocess text.\n",
        "\n",
        "2. **Text Preprocessing** ✍️\n",
        "   - **Tokenization** 🔤: Split text into words or tokens.\n",
        "   - **Stemming** 🌿: Apply Porter Stemmer to reduce words to their root form.\n",
        "   - **Vectorization** 🔢: Convert text data into numerical vectors using TfidfVectorizer.\n",
        "\n",
        "3. **Data Splitting** 🧩\n",
        "   - **Train-Test Split** 🔄: Divide the dataset into training and testing sets.\n",
        "\n",
        "4. **Model Training** 🏋️\n",
        "   - **Train Models** 🧑‍🏫: Use classifiers like RandomForest, AdaBoost, ExtraTrees, DecisionTree, and Logistic Regression to train the models on the training data.\n",
        "\n",
        "5. **Model Evaluation** 📊\n",
        "   - **Evaluate Performance** ✅: Use metrics such as accuracy and precision to assess model performance.\n",
        "\n",
        "6. **Model Saving** 💾\n",
        "   - **Save Models** 💾: Use Joblib to save the trained models for future use.\n",
        "\n",
        "## 📝 **Summary** 📋\n",
        "\n",
        "In this project, various machine learning techniques are applied to classify text data related to mental health issues. By leveraging different models and evaluating their performance, we aim to gain insights into mental health sentiments and potentially improve support mechanisms for affected individuals. 🧠💡\n",
        "\n",
        "---\n",
        "\n",
        "Feel free to adjust the markdown as needed to match the specifics of your project and presentation style. 🌟\n"
      ],
      "metadata": {
        "id": "f5asUd3kDiox"
      }
    },
    {
      "cell_type": "code",
      "source": [
        "import pandas as pd\n",
        "import numpy as np\n",
        "import seaborn as sn\n",
        "import matplotlib.pyplot as mp\n",
        "from sklearn.utils import resample\n",
        "from sklearn.model_selection import train_test_split\n",
        "from sklearn.feature_extraction.text import TfidfVectorizer\n",
        "import re as r\n",
        "from nltk.stem import PorterStemmer\n",
        "from sklearn.ensemble import RandomForestClassifier,AdaBoostClassifier,ExtraTreesClassifier\n",
        "from sklearn.tree import DecisionTreeClassifier\n",
        "from sklearn.linear_model import LogisticRegression\n",
        "from sklearn.metrics import accuracy_score,precision_score\n",
        "import joblib as j\n"
      ],
      "metadata": {
        "execution": {
          "iopub.status.busy": "2024-08-18T05:55:03.455421Z",
          "iopub.execute_input": "2024-08-18T05:55:03.455827Z",
          "iopub.status.idle": "2024-08-18T05:55:08.116076Z",
          "shell.execute_reply.started": "2024-08-18T05:55:03.455795Z",
          "shell.execute_reply": "2024-08-18T05:55:08.114713Z"
        },
        "trusted": true,
        "id": "7dvZFDlbDioz"
      },
      "execution_count": 3,
      "outputs": []
    },
    {
      "cell_type": "markdown",
      "source": [
        "\n",
        "\n",
        "# 📝 **Data Overview and Preprocessing** 🛠️\n",
        "\n",
        "### 📥 **Loading the Data**\n",
        "\n",
        "- **Dataset**: The dataset is loaded from the `Combined Data.csv` file.\n",
        "- **Initial Inspection**: The first few rows of the dataset are displayed to get a quick overview of the data.\n",
        "\n",
        "### 🔍 **Data Cleaning**\n",
        "\n",
        "- **Dropping Unnecessary Columns** 🗑️: The column `Unnamed: 0` is dropped as it is not needed for the analysis.\n",
        "- **Value Counts** 🔢: The distribution of different mental health statuses in the dataset is checked.\n",
        "  - **Statuses**: The dataset contains the following statuses:\n",
        "    - **Normal** 🙂\n",
        "    - **Depression** 😢\n",
        "    - **Suicidal** 💔\n",
        "    - **Anxiety** 😰\n",
        "    - **Bipolar** 🔄\n",
        "    - **Stress** 😓\n",
        "    - **Personality Disorder** 🤯\n",
        "  - **Counts**: The value counts for each status are displayed, showing the number of occurrences for each category.\n",
        "\n",
        "### 📊 **Data Visualization**\n",
        "\n",
        "- **Count Plot** 📉: A count plot is created to visualize the number of patients with respective statuses.\n",
        "  - **Plot Details**:\n",
        "    - **X-axis**: Status of patients\n",
        "    - **Y-axis**: Number of patients\n",
        "    - **Title**: \"Patients With Respective Status\"\n",
        "    - **X-ticks**: Rotated for better readability\n",
        "\n",
        "### 🛠️ **Data Information**\n",
        "\n",
        "- **Data Summary** 🗂️: The `info()` method is used to get a summary of the DataFrame.\n",
        "  - **RangeIndex**: The DataFrame has 53,043 entries.\n",
        "  - **Columns**: There are 2 columns: `statement` and `status`.\n",
        "  - **Non-null Counts**:\n",
        "    - `statement`: 52,681 non-null values\n",
        "    - `status`: 53,043 non-null values\n",
        "  - **Data Types**: Both columns are of object type.\n",
        "  - **Memory Usage**: The DataFrame uses approximately 828.9 KB of memory.\n",
        "\n",
        "### 🚫 **Handling Missing Values**\n",
        "\n",
        "- **Missing Values Count** 🧮: The count of missing values in each column is displayed.\n",
        "  - **`statement`**: 362 missing values\n",
        "  - **`status`**: 0 missing values\n",
        "- **Dropping Missing Values** 🧹: Rows with missing values in the `statement` column are dropped.\n",
        "  - **Shape Before**: (53,043, 2)\n",
        "  - **Shape After**: (52,681, 2)\n",
        "\n",
        "By performing these steps, you have cleaned and preprocessed your data, ensuring that it is ready for further analysis and modeling. The visualization helps to understand the distribution of different mental health statuses in the dataset. 📈📉\n"
      ],
      "metadata": {
        "id": "79otYQj4Dio0"
      }
    },
    {
      "cell_type": "code",
      "source": [
        "df=pd.read_csv(\"/kaggle/input/sentiment-analysis-for-mental-health/Combined Data.csv\")"
      ],
      "metadata": {
        "id": "PBBiiptbDio0"
      },
      "execution_count": 4,
      "outputs": []
    },
    {
      "cell_type": "code",
      "source": [
        "df.head(3)"
      ],
      "metadata": {
        "id": "0h-YktEPDio1",
        "outputId": "31e19559-48d6-41d8-aa16-ce7dc71efbfd",
        "colab": {
          "base_uri": "https://localhost:8080/",
          "height": 143
        },
        "collapsed": true
      },
      "execution_count": 5,
      "outputs": [
        {
          "output_type": "execute_result",
          "data": {
            "text/plain": [
              "   Unnamed: 0                                          statement   status\n",
              "0           0                                         oh my gosh  Anxiety\n",
              "1           1  trouble sleeping, confused mind, restless hear...  Anxiety\n",
              "2           2  All wrong, back off dear, forward doubt. Stay ...  Anxiety"
            ],
            "text/html": [
              "\n",
              "  <div id=\"df-7a3f7063-b6dd-4ee3-bae0-02282d6ca64f\" class=\"colab-df-container\">\n",
              "    <div>\n",
              "<style scoped>\n",
              "    .dataframe tbody tr th:only-of-type {\n",
              "        vertical-align: middle;\n",
              "    }\n",
              "\n",
              "    .dataframe tbody tr th {\n",
              "        vertical-align: top;\n",
              "    }\n",
              "\n",
              "    .dataframe thead th {\n",
              "        text-align: right;\n",
              "    }\n",
              "</style>\n",
              "<table border=\"1\" class=\"dataframe\">\n",
              "  <thead>\n",
              "    <tr style=\"text-align: right;\">\n",
              "      <th></th>\n",
              "      <th>Unnamed: 0</th>\n",
              "      <th>statement</th>\n",
              "      <th>status</th>\n",
              "    </tr>\n",
              "  </thead>\n",
              "  <tbody>\n",
              "    <tr>\n",
              "      <th>0</th>\n",
              "      <td>0</td>\n",
              "      <td>oh my gosh</td>\n",
              "      <td>Anxiety</td>\n",
              "    </tr>\n",
              "    <tr>\n",
              "      <th>1</th>\n",
              "      <td>1</td>\n",
              "      <td>trouble sleeping, confused mind, restless hear...</td>\n",
              "      <td>Anxiety</td>\n",
              "    </tr>\n",
              "    <tr>\n",
              "      <th>2</th>\n",
              "      <td>2</td>\n",
              "      <td>All wrong, back off dear, forward doubt. Stay ...</td>\n",
              "      <td>Anxiety</td>\n",
              "    </tr>\n",
              "  </tbody>\n",
              "</table>\n",
              "</div>\n",
              "    <div class=\"colab-df-buttons\">\n",
              "\n",
              "  <div class=\"colab-df-container\">\n",
              "    <button class=\"colab-df-convert\" onclick=\"convertToInteractive('df-7a3f7063-b6dd-4ee3-bae0-02282d6ca64f')\"\n",
              "            title=\"Convert this dataframe to an interactive table.\"\n",
              "            style=\"display:none;\">\n",
              "\n",
              "  <svg xmlns=\"http://www.w3.org/2000/svg\" height=\"24px\" viewBox=\"0 -960 960 960\">\n",
              "    <path d=\"M120-120v-720h720v720H120Zm60-500h600v-160H180v160Zm220 220h160v-160H400v160Zm0 220h160v-160H400v160ZM180-400h160v-160H180v160Zm440 0h160v-160H620v160ZM180-180h160v-160H180v160Zm440 0h160v-160H620v160Z\"/>\n",
              "  </svg>\n",
              "    </button>\n",
              "\n",
              "  <style>\n",
              "    .colab-df-container {\n",
              "      display:flex;\n",
              "      gap: 12px;\n",
              "    }\n",
              "\n",
              "    .colab-df-convert {\n",
              "      background-color: #E8F0FE;\n",
              "      border: none;\n",
              "      border-radius: 50%;\n",
              "      cursor: pointer;\n",
              "      display: none;\n",
              "      fill: #1967D2;\n",
              "      height: 32px;\n",
              "      padding: 0 0 0 0;\n",
              "      width: 32px;\n",
              "    }\n",
              "\n",
              "    .colab-df-convert:hover {\n",
              "      background-color: #E2EBFA;\n",
              "      box-shadow: 0px 1px 2px rgba(60, 64, 67, 0.3), 0px 1px 3px 1px rgba(60, 64, 67, 0.15);\n",
              "      fill: #174EA6;\n",
              "    }\n",
              "\n",
              "    .colab-df-buttons div {\n",
              "      margin-bottom: 4px;\n",
              "    }\n",
              "\n",
              "    [theme=dark] .colab-df-convert {\n",
              "      background-color: #3B4455;\n",
              "      fill: #D2E3FC;\n",
              "    }\n",
              "\n",
              "    [theme=dark] .colab-df-convert:hover {\n",
              "      background-color: #434B5C;\n",
              "      box-shadow: 0px 1px 3px 1px rgba(0, 0, 0, 0.15);\n",
              "      filter: drop-shadow(0px 1px 2px rgba(0, 0, 0, 0.3));\n",
              "      fill: #FFFFFF;\n",
              "    }\n",
              "  </style>\n",
              "\n",
              "    <script>\n",
              "      const buttonEl =\n",
              "        document.querySelector('#df-7a3f7063-b6dd-4ee3-bae0-02282d6ca64f button.colab-df-convert');\n",
              "      buttonEl.style.display =\n",
              "        google.colab.kernel.accessAllowed ? 'block' : 'none';\n",
              "\n",
              "      async function convertToInteractive(key) {\n",
              "        const element = document.querySelector('#df-7a3f7063-b6dd-4ee3-bae0-02282d6ca64f');\n",
              "        const dataTable =\n",
              "          await google.colab.kernel.invokeFunction('convertToInteractive',\n",
              "                                                    [key], {});\n",
              "        if (!dataTable) return;\n",
              "\n",
              "        const docLinkHtml = 'Like what you see? Visit the ' +\n",
              "          '<a target=\"_blank\" href=https://colab.research.google.com/notebooks/data_table.ipynb>data table notebook</a>'\n",
              "          + ' to learn more about interactive tables.';\n",
              "        element.innerHTML = '';\n",
              "        dataTable['output_type'] = 'display_data';\n",
              "        await google.colab.output.renderOutput(dataTable, element);\n",
              "        const docLink = document.createElement('div');\n",
              "        docLink.innerHTML = docLinkHtml;\n",
              "        element.appendChild(docLink);\n",
              "      }\n",
              "    </script>\n",
              "  </div>\n",
              "\n",
              "\n",
              "<div id=\"df-61050a50-7551-4734-abf4-d4124f6354a2\">\n",
              "  <button class=\"colab-df-quickchart\" onclick=\"quickchart('df-61050a50-7551-4734-abf4-d4124f6354a2')\"\n",
              "            title=\"Suggest charts\"\n",
              "            style=\"display:none;\">\n",
              "\n",
              "<svg xmlns=\"http://www.w3.org/2000/svg\" height=\"24px\"viewBox=\"0 0 24 24\"\n",
              "     width=\"24px\">\n",
              "    <g>\n",
              "        <path d=\"M19 3H5c-1.1 0-2 .9-2 2v14c0 1.1.9 2 2 2h14c1.1 0 2-.9 2-2V5c0-1.1-.9-2-2-2zM9 17H7v-7h2v7zm4 0h-2V7h2v10zm4 0h-2v-4h2v4z\"/>\n",
              "    </g>\n",
              "</svg>\n",
              "  </button>\n",
              "\n",
              "<style>\n",
              "  .colab-df-quickchart {\n",
              "      --bg-color: #E8F0FE;\n",
              "      --fill-color: #1967D2;\n",
              "      --hover-bg-color: #E2EBFA;\n",
              "      --hover-fill-color: #174EA6;\n",
              "      --disabled-fill-color: #AAA;\n",
              "      --disabled-bg-color: #DDD;\n",
              "  }\n",
              "\n",
              "  [theme=dark] .colab-df-quickchart {\n",
              "      --bg-color: #3B4455;\n",
              "      --fill-color: #D2E3FC;\n",
              "      --hover-bg-color: #434B5C;\n",
              "      --hover-fill-color: #FFFFFF;\n",
              "      --disabled-bg-color: #3B4455;\n",
              "      --disabled-fill-color: #666;\n",
              "  }\n",
              "\n",
              "  .colab-df-quickchart {\n",
              "    background-color: var(--bg-color);\n",
              "    border: none;\n",
              "    border-radius: 50%;\n",
              "    cursor: pointer;\n",
              "    display: none;\n",
              "    fill: var(--fill-color);\n",
              "    height: 32px;\n",
              "    padding: 0;\n",
              "    width: 32px;\n",
              "  }\n",
              "\n",
              "  .colab-df-quickchart:hover {\n",
              "    background-color: var(--hover-bg-color);\n",
              "    box-shadow: 0 1px 2px rgba(60, 64, 67, 0.3), 0 1px 3px 1px rgba(60, 64, 67, 0.15);\n",
              "    fill: var(--button-hover-fill-color);\n",
              "  }\n",
              "\n",
              "  .colab-df-quickchart-complete:disabled,\n",
              "  .colab-df-quickchart-complete:disabled:hover {\n",
              "    background-color: var(--disabled-bg-color);\n",
              "    fill: var(--disabled-fill-color);\n",
              "    box-shadow: none;\n",
              "  }\n",
              "\n",
              "  .colab-df-spinner {\n",
              "    border: 2px solid var(--fill-color);\n",
              "    border-color: transparent;\n",
              "    border-bottom-color: var(--fill-color);\n",
              "    animation:\n",
              "      spin 1s steps(1) infinite;\n",
              "  }\n",
              "\n",
              "  @keyframes spin {\n",
              "    0% {\n",
              "      border-color: transparent;\n",
              "      border-bottom-color: var(--fill-color);\n",
              "      border-left-color: var(--fill-color);\n",
              "    }\n",
              "    20% {\n",
              "      border-color: transparent;\n",
              "      border-left-color: var(--fill-color);\n",
              "      border-top-color: var(--fill-color);\n",
              "    }\n",
              "    30% {\n",
              "      border-color: transparent;\n",
              "      border-left-color: var(--fill-color);\n",
              "      border-top-color: var(--fill-color);\n",
              "      border-right-color: var(--fill-color);\n",
              "    }\n",
              "    40% {\n",
              "      border-color: transparent;\n",
              "      border-right-color: var(--fill-color);\n",
              "      border-top-color: var(--fill-color);\n",
              "    }\n",
              "    60% {\n",
              "      border-color: transparent;\n",
              "      border-right-color: var(--fill-color);\n",
              "    }\n",
              "    80% {\n",
              "      border-color: transparent;\n",
              "      border-right-color: var(--fill-color);\n",
              "      border-bottom-color: var(--fill-color);\n",
              "    }\n",
              "    90% {\n",
              "      border-color: transparent;\n",
              "      border-bottom-color: var(--fill-color);\n",
              "    }\n",
              "  }\n",
              "</style>\n",
              "\n",
              "  <script>\n",
              "    async function quickchart(key) {\n",
              "      const quickchartButtonEl =\n",
              "        document.querySelector('#' + key + ' button');\n",
              "      quickchartButtonEl.disabled = true;  // To prevent multiple clicks.\n",
              "      quickchartButtonEl.classList.add('colab-df-spinner');\n",
              "      try {\n",
              "        const charts = await google.colab.kernel.invokeFunction(\n",
              "            'suggestCharts', [key], {});\n",
              "      } catch (error) {\n",
              "        console.error('Error during call to suggestCharts:', error);\n",
              "      }\n",
              "      quickchartButtonEl.classList.remove('colab-df-spinner');\n",
              "      quickchartButtonEl.classList.add('colab-df-quickchart-complete');\n",
              "    }\n",
              "    (() => {\n",
              "      let quickchartButtonEl =\n",
              "        document.querySelector('#df-61050a50-7551-4734-abf4-d4124f6354a2 button');\n",
              "      quickchartButtonEl.style.display =\n",
              "        google.colab.kernel.accessAllowed ? 'block' : 'none';\n",
              "    })();\n",
              "  </script>\n",
              "</div>\n",
              "\n",
              "    </div>\n",
              "  </div>\n"
            ],
            "application/vnd.google.colaboratory.intrinsic+json": {
              "type": "dataframe",
              "variable_name": "df",
              "summary": "{\n  \"name\": \"df\",\n  \"rows\": 53043,\n  \"fields\": [\n    {\n      \"column\": \"Unnamed: 0\",\n      \"properties\": {\n        \"dtype\": \"number\",\n        \"std\": 15312,\n        \"min\": 0,\n        \"max\": 53042,\n        \"num_unique_values\": 53043,\n        \"samples\": [\n          22261,\n          41400,\n          20065\n        ],\n        \"semantic_type\": \"\",\n        \"description\": \"\"\n      }\n    },\n    {\n      \"column\": \"statement\",\n      \"properties\": {\n        \"dtype\": \"string\",\n        \"num_unique_values\": 51073,\n        \"samples\": [\n          \"he's been a chain smoker for 30 years.\",\n          \"Dependence on therapist I attend IOP groups and individual therapy sessions at the same place, my therapist who I have worked with on and off for a year and a couple months just told me today that she is leaving soon and I am heartbroken. I love my therapist and I don't know how I am going to keep progressing without her. There will be a replacement for her but idk what to do, I don't want a different therapist. :(\",\n          \"These feelings constantly come back. Someone from my past that hurt me came back a month ago and once again disrespected me and i just feel like shit. Idk why these feelings keep resurfacing but it just hurts. I do not want to be over dramatic but Its hurts when you were nothing but loving/kind to someone and they disrespect you. I just hate feeling like this, feeling like i cannot trust anyone or that no one would ever truly love me unless i have something to offer. I am always worried about my looks and its just making me depressed. I really do not feel like i fit in with the world I am just here. Idk what my next step should be to get help but I am really going through it. (Yes I am in therapy) but how do i help myself ? I have been depressed/anxious for years and most day i do not even leave my house. But nobody around me seems to care and honestly I am tired of feeling this way. But at the same time i do not want to give up on myself bc i feel like I am here to be somebody great. I am just trying to find my way right now. It keeps coming back\"\n        ],\n        \"semantic_type\": \"\",\n        \"description\": \"\"\n      }\n    },\n    {\n      \"column\": \"status\",\n      \"properties\": {\n        \"dtype\": \"category\",\n        \"num_unique_values\": 7,\n        \"samples\": [\n          \"Anxiety\",\n          \"Normal\",\n          \"Bipolar\"\n        ],\n        \"semantic_type\": \"\",\n        \"description\": \"\"\n      }\n    }\n  ]\n}"
            }
          },
          "metadata": {},
          "execution_count": 5
        }
      ]
    },
    {
      "cell_type": "code",
      "source": [
        "df.tail(3)"
      ],
      "metadata": {
        "id": "ibChcdkODio1",
        "outputId": "e9e6b1dc-4e93-4770-d024-e339d49d17c4",
        "colab": {
          "base_uri": "https://localhost:8080/",
          "height": 143
        },
        "collapsed": true
      },
      "execution_count": 6,
      "outputs": [
        {
          "output_type": "execute_result",
          "data": {
            "text/plain": [
              "       Unnamed: 0                                          statement   status\n",
              "53040       53040  Is there any way to sleep better? I can't slee...  Anxiety\n",
              "53041       53041  Public speaking tips? Hi, all. I have to give ...  Anxiety\n",
              "53042       53042  I have really bad door anxiety! It's not about...  Anxiety"
            ],
            "text/html": [
              "\n",
              "  <div id=\"df-17b8b57a-32c6-4f9d-b9dc-1a4343e5ea00\" class=\"colab-df-container\">\n",
              "    <div>\n",
              "<style scoped>\n",
              "    .dataframe tbody tr th:only-of-type {\n",
              "        vertical-align: middle;\n",
              "    }\n",
              "\n",
              "    .dataframe tbody tr th {\n",
              "        vertical-align: top;\n",
              "    }\n",
              "\n",
              "    .dataframe thead th {\n",
              "        text-align: right;\n",
              "    }\n",
              "</style>\n",
              "<table border=\"1\" class=\"dataframe\">\n",
              "  <thead>\n",
              "    <tr style=\"text-align: right;\">\n",
              "      <th></th>\n",
              "      <th>Unnamed: 0</th>\n",
              "      <th>statement</th>\n",
              "      <th>status</th>\n",
              "    </tr>\n",
              "  </thead>\n",
              "  <tbody>\n",
              "    <tr>\n",
              "      <th>53040</th>\n",
              "      <td>53040</td>\n",
              "      <td>Is there any way to sleep better? I can't slee...</td>\n",
              "      <td>Anxiety</td>\n",
              "    </tr>\n",
              "    <tr>\n",
              "      <th>53041</th>\n",
              "      <td>53041</td>\n",
              "      <td>Public speaking tips? Hi, all. I have to give ...</td>\n",
              "      <td>Anxiety</td>\n",
              "    </tr>\n",
              "    <tr>\n",
              "      <th>53042</th>\n",
              "      <td>53042</td>\n",
              "      <td>I have really bad door anxiety! It's not about...</td>\n",
              "      <td>Anxiety</td>\n",
              "    </tr>\n",
              "  </tbody>\n",
              "</table>\n",
              "</div>\n",
              "    <div class=\"colab-df-buttons\">\n",
              "\n",
              "  <div class=\"colab-df-container\">\n",
              "    <button class=\"colab-df-convert\" onclick=\"convertToInteractive('df-17b8b57a-32c6-4f9d-b9dc-1a4343e5ea00')\"\n",
              "            title=\"Convert this dataframe to an interactive table.\"\n",
              "            style=\"display:none;\">\n",
              "\n",
              "  <svg xmlns=\"http://www.w3.org/2000/svg\" height=\"24px\" viewBox=\"0 -960 960 960\">\n",
              "    <path d=\"M120-120v-720h720v720H120Zm60-500h600v-160H180v160Zm220 220h160v-160H400v160Zm0 220h160v-160H400v160ZM180-400h160v-160H180v160Zm440 0h160v-160H620v160ZM180-180h160v-160H180v160Zm440 0h160v-160H620v160Z\"/>\n",
              "  </svg>\n",
              "    </button>\n",
              "\n",
              "  <style>\n",
              "    .colab-df-container {\n",
              "      display:flex;\n",
              "      gap: 12px;\n",
              "    }\n",
              "\n",
              "    .colab-df-convert {\n",
              "      background-color: #E8F0FE;\n",
              "      border: none;\n",
              "      border-radius: 50%;\n",
              "      cursor: pointer;\n",
              "      display: none;\n",
              "      fill: #1967D2;\n",
              "      height: 32px;\n",
              "      padding: 0 0 0 0;\n",
              "      width: 32px;\n",
              "    }\n",
              "\n",
              "    .colab-df-convert:hover {\n",
              "      background-color: #E2EBFA;\n",
              "      box-shadow: 0px 1px 2px rgba(60, 64, 67, 0.3), 0px 1px 3px 1px rgba(60, 64, 67, 0.15);\n",
              "      fill: #174EA6;\n",
              "    }\n",
              "\n",
              "    .colab-df-buttons div {\n",
              "      margin-bottom: 4px;\n",
              "    }\n",
              "\n",
              "    [theme=dark] .colab-df-convert {\n",
              "      background-color: #3B4455;\n",
              "      fill: #D2E3FC;\n",
              "    }\n",
              "\n",
              "    [theme=dark] .colab-df-convert:hover {\n",
              "      background-color: #434B5C;\n",
              "      box-shadow: 0px 1px 3px 1px rgba(0, 0, 0, 0.15);\n",
              "      filter: drop-shadow(0px 1px 2px rgba(0, 0, 0, 0.3));\n",
              "      fill: #FFFFFF;\n",
              "    }\n",
              "  </style>\n",
              "\n",
              "    <script>\n",
              "      const buttonEl =\n",
              "        document.querySelector('#df-17b8b57a-32c6-4f9d-b9dc-1a4343e5ea00 button.colab-df-convert');\n",
              "      buttonEl.style.display =\n",
              "        google.colab.kernel.accessAllowed ? 'block' : 'none';\n",
              "\n",
              "      async function convertToInteractive(key) {\n",
              "        const element = document.querySelector('#df-17b8b57a-32c6-4f9d-b9dc-1a4343e5ea00');\n",
              "        const dataTable =\n",
              "          await google.colab.kernel.invokeFunction('convertToInteractive',\n",
              "                                                    [key], {});\n",
              "        if (!dataTable) return;\n",
              "\n",
              "        const docLinkHtml = 'Like what you see? Visit the ' +\n",
              "          '<a target=\"_blank\" href=https://colab.research.google.com/notebooks/data_table.ipynb>data table notebook</a>'\n",
              "          + ' to learn more about interactive tables.';\n",
              "        element.innerHTML = '';\n",
              "        dataTable['output_type'] = 'display_data';\n",
              "        await google.colab.output.renderOutput(dataTable, element);\n",
              "        const docLink = document.createElement('div');\n",
              "        docLink.innerHTML = docLinkHtml;\n",
              "        element.appendChild(docLink);\n",
              "      }\n",
              "    </script>\n",
              "  </div>\n",
              "\n",
              "\n",
              "<div id=\"df-7ace0dd5-07a5-4ab2-8a7f-3fbae4ff0191\">\n",
              "  <button class=\"colab-df-quickchart\" onclick=\"quickchart('df-7ace0dd5-07a5-4ab2-8a7f-3fbae4ff0191')\"\n",
              "            title=\"Suggest charts\"\n",
              "            style=\"display:none;\">\n",
              "\n",
              "<svg xmlns=\"http://www.w3.org/2000/svg\" height=\"24px\"viewBox=\"0 0 24 24\"\n",
              "     width=\"24px\">\n",
              "    <g>\n",
              "        <path d=\"M19 3H5c-1.1 0-2 .9-2 2v14c0 1.1.9 2 2 2h14c1.1 0 2-.9 2-2V5c0-1.1-.9-2-2-2zM9 17H7v-7h2v7zm4 0h-2V7h2v10zm4 0h-2v-4h2v4z\"/>\n",
              "    </g>\n",
              "</svg>\n",
              "  </button>\n",
              "\n",
              "<style>\n",
              "  .colab-df-quickchart {\n",
              "      --bg-color: #E8F0FE;\n",
              "      --fill-color: #1967D2;\n",
              "      --hover-bg-color: #E2EBFA;\n",
              "      --hover-fill-color: #174EA6;\n",
              "      --disabled-fill-color: #AAA;\n",
              "      --disabled-bg-color: #DDD;\n",
              "  }\n",
              "\n",
              "  [theme=dark] .colab-df-quickchart {\n",
              "      --bg-color: #3B4455;\n",
              "      --fill-color: #D2E3FC;\n",
              "      --hover-bg-color: #434B5C;\n",
              "      --hover-fill-color: #FFFFFF;\n",
              "      --disabled-bg-color: #3B4455;\n",
              "      --disabled-fill-color: #666;\n",
              "  }\n",
              "\n",
              "  .colab-df-quickchart {\n",
              "    background-color: var(--bg-color);\n",
              "    border: none;\n",
              "    border-radius: 50%;\n",
              "    cursor: pointer;\n",
              "    display: none;\n",
              "    fill: var(--fill-color);\n",
              "    height: 32px;\n",
              "    padding: 0;\n",
              "    width: 32px;\n",
              "  }\n",
              "\n",
              "  .colab-df-quickchart:hover {\n",
              "    background-color: var(--hover-bg-color);\n",
              "    box-shadow: 0 1px 2px rgba(60, 64, 67, 0.3), 0 1px 3px 1px rgba(60, 64, 67, 0.15);\n",
              "    fill: var(--button-hover-fill-color);\n",
              "  }\n",
              "\n",
              "  .colab-df-quickchart-complete:disabled,\n",
              "  .colab-df-quickchart-complete:disabled:hover {\n",
              "    background-color: var(--disabled-bg-color);\n",
              "    fill: var(--disabled-fill-color);\n",
              "    box-shadow: none;\n",
              "  }\n",
              "\n",
              "  .colab-df-spinner {\n",
              "    border: 2px solid var(--fill-color);\n",
              "    border-color: transparent;\n",
              "    border-bottom-color: var(--fill-color);\n",
              "    animation:\n",
              "      spin 1s steps(1) infinite;\n",
              "  }\n",
              "\n",
              "  @keyframes spin {\n",
              "    0% {\n",
              "      border-color: transparent;\n",
              "      border-bottom-color: var(--fill-color);\n",
              "      border-left-color: var(--fill-color);\n",
              "    }\n",
              "    20% {\n",
              "      border-color: transparent;\n",
              "      border-left-color: var(--fill-color);\n",
              "      border-top-color: var(--fill-color);\n",
              "    }\n",
              "    30% {\n",
              "      border-color: transparent;\n",
              "      border-left-color: var(--fill-color);\n",
              "      border-top-color: var(--fill-color);\n",
              "      border-right-color: var(--fill-color);\n",
              "    }\n",
              "    40% {\n",
              "      border-color: transparent;\n",
              "      border-right-color: var(--fill-color);\n",
              "      border-top-color: var(--fill-color);\n",
              "    }\n",
              "    60% {\n",
              "      border-color: transparent;\n",
              "      border-right-color: var(--fill-color);\n",
              "    }\n",
              "    80% {\n",
              "      border-color: transparent;\n",
              "      border-right-color: var(--fill-color);\n",
              "      border-bottom-color: var(--fill-color);\n",
              "    }\n",
              "    90% {\n",
              "      border-color: transparent;\n",
              "      border-bottom-color: var(--fill-color);\n",
              "    }\n",
              "  }\n",
              "</style>\n",
              "\n",
              "  <script>\n",
              "    async function quickchart(key) {\n",
              "      const quickchartButtonEl =\n",
              "        document.querySelector('#' + key + ' button');\n",
              "      quickchartButtonEl.disabled = true;  // To prevent multiple clicks.\n",
              "      quickchartButtonEl.classList.add('colab-df-spinner');\n",
              "      try {\n",
              "        const charts = await google.colab.kernel.invokeFunction(\n",
              "            'suggestCharts', [key], {});\n",
              "      } catch (error) {\n",
              "        console.error('Error during call to suggestCharts:', error);\n",
              "      }\n",
              "      quickchartButtonEl.classList.remove('colab-df-spinner');\n",
              "      quickchartButtonEl.classList.add('colab-df-quickchart-complete');\n",
              "    }\n",
              "    (() => {\n",
              "      let quickchartButtonEl =\n",
              "        document.querySelector('#df-7ace0dd5-07a5-4ab2-8a7f-3fbae4ff0191 button');\n",
              "      quickchartButtonEl.style.display =\n",
              "        google.colab.kernel.accessAllowed ? 'block' : 'none';\n",
              "    })();\n",
              "  </script>\n",
              "</div>\n",
              "\n",
              "    </div>\n",
              "  </div>\n"
            ],
            "application/vnd.google.colaboratory.intrinsic+json": {
              "type": "dataframe",
              "summary": "{\n  \"name\": \"df\",\n  \"rows\": 3,\n  \"fields\": [\n    {\n      \"column\": \"Unnamed: 0\",\n      \"properties\": {\n        \"dtype\": \"number\",\n        \"std\": 1,\n        \"min\": 53040,\n        \"max\": 53042,\n        \"num_unique_values\": 3,\n        \"samples\": [\n          53040,\n          53041,\n          53042\n        ],\n        \"semantic_type\": \"\",\n        \"description\": \"\"\n      }\n    },\n    {\n      \"column\": \"statement\",\n      \"properties\": {\n        \"dtype\": \"string\",\n        \"num_unique_values\": 3,\n        \"samples\": [\n          \"Is there any way to sleep better? I can't sleep most of the nights, meds didn't help.\",\n          \"Public speaking tips? Hi, all. I have to give a presentation at work next week (45 minutes long and the CEO will be in attendance). I\\u2019m already panicking, as once the anxiety kicks in, I\\u2019m certain I\\u2019m going to forget everything I\\u2019m supposed to say. ( anxiety makes it very difficult for me to focus on anything) Does anyone have any speaking tips that have worked for them in the past? Thanks so much!\",\n          \"I have really bad door anxiety! It's not about being scared I didn't lock the door or something, I'm just really scared of opening doors the wrong way or turning a key the wrong way in front of people or pushing instead of pulling and viceversa, it's honestly debilitating because i feel like I'm gonna die everytime I have to open a door. I wondered if anyone else has the same problem and how to fix it if possible.\"\n        ],\n        \"semantic_type\": \"\",\n        \"description\": \"\"\n      }\n    },\n    {\n      \"column\": \"status\",\n      \"properties\": {\n        \"dtype\": \"category\",\n        \"num_unique_values\": 1,\n        \"samples\": [\n          \"Anxiety\"\n        ],\n        \"semantic_type\": \"\",\n        \"description\": \"\"\n      }\n    }\n  ]\n}"
            }
          },
          "metadata": {},
          "execution_count": 6
        }
      ]
    },
    {
      "cell_type": "code",
      "source": [
        "df.sample(5)"
      ],
      "metadata": {
        "id": "a10SRLguDio1",
        "outputId": "99b78623-8c10-4432-8a3a-59a60b702cce",
        "colab": {
          "base_uri": "https://localhost:8080/",
          "height": 206
        },
        "collapsed": true
      },
      "execution_count": 7,
      "outputs": [
        {
          "output_type": "execute_result",
          "data": {
            "text/plain": [
              "       Unnamed: 0                                          statement    status\n",
              "29805       29805  Realistically, because of geographic lockdown,...    Normal\n",
              "9158         9158  Today after my run, I sat near a lake, and jus...  Suicidal\n",
              "5304         5304  Otg for an iPhone for an album from yesterday,...    Normal\n",
              "25978       25978  I have been depressed since I was 10 I am now ...  Suicidal\n",
              "37072       37072  its crazy cause i shut myself out on two ppl i...  Suicidal"
            ],
            "text/html": [
              "\n",
              "  <div id=\"df-d8db2338-1b76-4807-b0ea-3842721fc69b\" class=\"colab-df-container\">\n",
              "    <div>\n",
              "<style scoped>\n",
              "    .dataframe tbody tr th:only-of-type {\n",
              "        vertical-align: middle;\n",
              "    }\n",
              "\n",
              "    .dataframe tbody tr th {\n",
              "        vertical-align: top;\n",
              "    }\n",
              "\n",
              "    .dataframe thead th {\n",
              "        text-align: right;\n",
              "    }\n",
              "</style>\n",
              "<table border=\"1\" class=\"dataframe\">\n",
              "  <thead>\n",
              "    <tr style=\"text-align: right;\">\n",
              "      <th></th>\n",
              "      <th>Unnamed: 0</th>\n",
              "      <th>statement</th>\n",
              "      <th>status</th>\n",
              "    </tr>\n",
              "  </thead>\n",
              "  <tbody>\n",
              "    <tr>\n",
              "      <th>29805</th>\n",
              "      <td>29805</td>\n",
              "      <td>Realistically, because of geographic lockdown,...</td>\n",
              "      <td>Normal</td>\n",
              "    </tr>\n",
              "    <tr>\n",
              "      <th>9158</th>\n",
              "      <td>9158</td>\n",
              "      <td>Today after my run, I sat near a lake, and jus...</td>\n",
              "      <td>Suicidal</td>\n",
              "    </tr>\n",
              "    <tr>\n",
              "      <th>5304</th>\n",
              "      <td>5304</td>\n",
              "      <td>Otg for an iPhone for an album from yesterday,...</td>\n",
              "      <td>Normal</td>\n",
              "    </tr>\n",
              "    <tr>\n",
              "      <th>25978</th>\n",
              "      <td>25978</td>\n",
              "      <td>I have been depressed since I was 10 I am now ...</td>\n",
              "      <td>Suicidal</td>\n",
              "    </tr>\n",
              "    <tr>\n",
              "      <th>37072</th>\n",
              "      <td>37072</td>\n",
              "      <td>its crazy cause i shut myself out on two ppl i...</td>\n",
              "      <td>Suicidal</td>\n",
              "    </tr>\n",
              "  </tbody>\n",
              "</table>\n",
              "</div>\n",
              "    <div class=\"colab-df-buttons\">\n",
              "\n",
              "  <div class=\"colab-df-container\">\n",
              "    <button class=\"colab-df-convert\" onclick=\"convertToInteractive('df-d8db2338-1b76-4807-b0ea-3842721fc69b')\"\n",
              "            title=\"Convert this dataframe to an interactive table.\"\n",
              "            style=\"display:none;\">\n",
              "\n",
              "  <svg xmlns=\"http://www.w3.org/2000/svg\" height=\"24px\" viewBox=\"0 -960 960 960\">\n",
              "    <path d=\"M120-120v-720h720v720H120Zm60-500h600v-160H180v160Zm220 220h160v-160H400v160Zm0 220h160v-160H400v160ZM180-400h160v-160H180v160Zm440 0h160v-160H620v160ZM180-180h160v-160H180v160Zm440 0h160v-160H620v160Z\"/>\n",
              "  </svg>\n",
              "    </button>\n",
              "\n",
              "  <style>\n",
              "    .colab-df-container {\n",
              "      display:flex;\n",
              "      gap: 12px;\n",
              "    }\n",
              "\n",
              "    .colab-df-convert {\n",
              "      background-color: #E8F0FE;\n",
              "      border: none;\n",
              "      border-radius: 50%;\n",
              "      cursor: pointer;\n",
              "      display: none;\n",
              "      fill: #1967D2;\n",
              "      height: 32px;\n",
              "      padding: 0 0 0 0;\n",
              "      width: 32px;\n",
              "    }\n",
              "\n",
              "    .colab-df-convert:hover {\n",
              "      background-color: #E2EBFA;\n",
              "      box-shadow: 0px 1px 2px rgba(60, 64, 67, 0.3), 0px 1px 3px 1px rgba(60, 64, 67, 0.15);\n",
              "      fill: #174EA6;\n",
              "    }\n",
              "\n",
              "    .colab-df-buttons div {\n",
              "      margin-bottom: 4px;\n",
              "    }\n",
              "\n",
              "    [theme=dark] .colab-df-convert {\n",
              "      background-color: #3B4455;\n",
              "      fill: #D2E3FC;\n",
              "    }\n",
              "\n",
              "    [theme=dark] .colab-df-convert:hover {\n",
              "      background-color: #434B5C;\n",
              "      box-shadow: 0px 1px 3px 1px rgba(0, 0, 0, 0.15);\n",
              "      filter: drop-shadow(0px 1px 2px rgba(0, 0, 0, 0.3));\n",
              "      fill: #FFFFFF;\n",
              "    }\n",
              "  </style>\n",
              "\n",
              "    <script>\n",
              "      const buttonEl =\n",
              "        document.querySelector('#df-d8db2338-1b76-4807-b0ea-3842721fc69b button.colab-df-convert');\n",
              "      buttonEl.style.display =\n",
              "        google.colab.kernel.accessAllowed ? 'block' : 'none';\n",
              "\n",
              "      async function convertToInteractive(key) {\n",
              "        const element = document.querySelector('#df-d8db2338-1b76-4807-b0ea-3842721fc69b');\n",
              "        const dataTable =\n",
              "          await google.colab.kernel.invokeFunction('convertToInteractive',\n",
              "                                                    [key], {});\n",
              "        if (!dataTable) return;\n",
              "\n",
              "        const docLinkHtml = 'Like what you see? Visit the ' +\n",
              "          '<a target=\"_blank\" href=https://colab.research.google.com/notebooks/data_table.ipynb>data table notebook</a>'\n",
              "          + ' to learn more about interactive tables.';\n",
              "        element.innerHTML = '';\n",
              "        dataTable['output_type'] = 'display_data';\n",
              "        await google.colab.output.renderOutput(dataTable, element);\n",
              "        const docLink = document.createElement('div');\n",
              "        docLink.innerHTML = docLinkHtml;\n",
              "        element.appendChild(docLink);\n",
              "      }\n",
              "    </script>\n",
              "  </div>\n",
              "\n",
              "\n",
              "<div id=\"df-804f7f6a-c225-48ca-b7dc-4fea74474508\">\n",
              "  <button class=\"colab-df-quickchart\" onclick=\"quickchart('df-804f7f6a-c225-48ca-b7dc-4fea74474508')\"\n",
              "            title=\"Suggest charts\"\n",
              "            style=\"display:none;\">\n",
              "\n",
              "<svg xmlns=\"http://www.w3.org/2000/svg\" height=\"24px\"viewBox=\"0 0 24 24\"\n",
              "     width=\"24px\">\n",
              "    <g>\n",
              "        <path d=\"M19 3H5c-1.1 0-2 .9-2 2v14c0 1.1.9 2 2 2h14c1.1 0 2-.9 2-2V5c0-1.1-.9-2-2-2zM9 17H7v-7h2v7zm4 0h-2V7h2v10zm4 0h-2v-4h2v4z\"/>\n",
              "    </g>\n",
              "</svg>\n",
              "  </button>\n",
              "\n",
              "<style>\n",
              "  .colab-df-quickchart {\n",
              "      --bg-color: #E8F0FE;\n",
              "      --fill-color: #1967D2;\n",
              "      --hover-bg-color: #E2EBFA;\n",
              "      --hover-fill-color: #174EA6;\n",
              "      --disabled-fill-color: #AAA;\n",
              "      --disabled-bg-color: #DDD;\n",
              "  }\n",
              "\n",
              "  [theme=dark] .colab-df-quickchart {\n",
              "      --bg-color: #3B4455;\n",
              "      --fill-color: #D2E3FC;\n",
              "      --hover-bg-color: #434B5C;\n",
              "      --hover-fill-color: #FFFFFF;\n",
              "      --disabled-bg-color: #3B4455;\n",
              "      --disabled-fill-color: #666;\n",
              "  }\n",
              "\n",
              "  .colab-df-quickchart {\n",
              "    background-color: var(--bg-color);\n",
              "    border: none;\n",
              "    border-radius: 50%;\n",
              "    cursor: pointer;\n",
              "    display: none;\n",
              "    fill: var(--fill-color);\n",
              "    height: 32px;\n",
              "    padding: 0;\n",
              "    width: 32px;\n",
              "  }\n",
              "\n",
              "  .colab-df-quickchart:hover {\n",
              "    background-color: var(--hover-bg-color);\n",
              "    box-shadow: 0 1px 2px rgba(60, 64, 67, 0.3), 0 1px 3px 1px rgba(60, 64, 67, 0.15);\n",
              "    fill: var(--button-hover-fill-color);\n",
              "  }\n",
              "\n",
              "  .colab-df-quickchart-complete:disabled,\n",
              "  .colab-df-quickchart-complete:disabled:hover {\n",
              "    background-color: var(--disabled-bg-color);\n",
              "    fill: var(--disabled-fill-color);\n",
              "    box-shadow: none;\n",
              "  }\n",
              "\n",
              "  .colab-df-spinner {\n",
              "    border: 2px solid var(--fill-color);\n",
              "    border-color: transparent;\n",
              "    border-bottom-color: var(--fill-color);\n",
              "    animation:\n",
              "      spin 1s steps(1) infinite;\n",
              "  }\n",
              "\n",
              "  @keyframes spin {\n",
              "    0% {\n",
              "      border-color: transparent;\n",
              "      border-bottom-color: var(--fill-color);\n",
              "      border-left-color: var(--fill-color);\n",
              "    }\n",
              "    20% {\n",
              "      border-color: transparent;\n",
              "      border-left-color: var(--fill-color);\n",
              "      border-top-color: var(--fill-color);\n",
              "    }\n",
              "    30% {\n",
              "      border-color: transparent;\n",
              "      border-left-color: var(--fill-color);\n",
              "      border-top-color: var(--fill-color);\n",
              "      border-right-color: var(--fill-color);\n",
              "    }\n",
              "    40% {\n",
              "      border-color: transparent;\n",
              "      border-right-color: var(--fill-color);\n",
              "      border-top-color: var(--fill-color);\n",
              "    }\n",
              "    60% {\n",
              "      border-color: transparent;\n",
              "      border-right-color: var(--fill-color);\n",
              "    }\n",
              "    80% {\n",
              "      border-color: transparent;\n",
              "      border-right-color: var(--fill-color);\n",
              "      border-bottom-color: var(--fill-color);\n",
              "    }\n",
              "    90% {\n",
              "      border-color: transparent;\n",
              "      border-bottom-color: var(--fill-color);\n",
              "    }\n",
              "  }\n",
              "</style>\n",
              "\n",
              "  <script>\n",
              "    async function quickchart(key) {\n",
              "      const quickchartButtonEl =\n",
              "        document.querySelector('#' + key + ' button');\n",
              "      quickchartButtonEl.disabled = true;  // To prevent multiple clicks.\n",
              "      quickchartButtonEl.classList.add('colab-df-spinner');\n",
              "      try {\n",
              "        const charts = await google.colab.kernel.invokeFunction(\n",
              "            'suggestCharts', [key], {});\n",
              "      } catch (error) {\n",
              "        console.error('Error during call to suggestCharts:', error);\n",
              "      }\n",
              "      quickchartButtonEl.classList.remove('colab-df-spinner');\n",
              "      quickchartButtonEl.classList.add('colab-df-quickchart-complete');\n",
              "    }\n",
              "    (() => {\n",
              "      let quickchartButtonEl =\n",
              "        document.querySelector('#df-804f7f6a-c225-48ca-b7dc-4fea74474508 button');\n",
              "      quickchartButtonEl.style.display =\n",
              "        google.colab.kernel.accessAllowed ? 'block' : 'none';\n",
              "    })();\n",
              "  </script>\n",
              "</div>\n",
              "\n",
              "    </div>\n",
              "  </div>\n"
            ],
            "application/vnd.google.colaboratory.intrinsic+json": {
              "type": "dataframe",
              "summary": "{\n  \"name\": \"df\",\n  \"rows\": 5,\n  \"fields\": [\n    {\n      \"column\": \"Unnamed: 0\",\n      \"properties\": {\n        \"dtype\": \"number\",\n        \"std\": 13657,\n        \"min\": 5304,\n        \"max\": 37072,\n        \"num_unique_values\": 5,\n        \"samples\": [\n          9158,\n          37072,\n          5304\n        ],\n        \"semantic_type\": \"\",\n        \"description\": \"\"\n      }\n    },\n    {\n      \"column\": \"statement\",\n      \"properties\": {\n        \"dtype\": \"string\",\n        \"num_unique_values\": 5,\n        \"samples\": [\n          \"Today after my run, I sat near a lake, and just started crying and thought to myself, I cannot go on, I have had enough, and why and how and should I be saved Feel like I have had enough\",\n          \"its crazy cause i shut myself out on two ppl i been down w. soo long \\u00f0\\u009f\\u0092\\u00af and ik i love them to death and i would prob\\u00e2\\u0080\\u00a6\",\n          \"Otg for an iPhone for an album from yesterday, it's really hard to try, just try buying an album, hmm, no need to think for months, I've already tried it\"\n        ],\n        \"semantic_type\": \"\",\n        \"description\": \"\"\n      }\n    },\n    {\n      \"column\": \"status\",\n      \"properties\": {\n        \"dtype\": \"category\",\n        \"num_unique_values\": 2,\n        \"samples\": [\n          \"Suicidal\",\n          \"Normal\"\n        ],\n        \"semantic_type\": \"\",\n        \"description\": \"\"\n      }\n    }\n  ]\n}"
            }
          },
          "metadata": {},
          "execution_count": 7
        }
      ]
    },
    {
      "cell_type": "code",
      "source": [
        "df.drop('Unnamed: 0',axis=1,inplace=True)"
      ],
      "metadata": {
        "id": "80y24BC2Dio2"
      },
      "execution_count": 8,
      "outputs": []
    },
    {
      "cell_type": "code",
      "source": [
        "df.sample(3)"
      ],
      "metadata": {
        "id": "2wzj9-7bDio2",
        "outputId": "3a69e5db-1949-4cac-fee6-033b889c08d9",
        "colab": {
          "base_uri": "https://localhost:8080/",
          "height": 143
        },
        "collapsed": true
      },
      "execution_count": 9,
      "outputs": [
        {
          "output_type": "execute_result",
          "data": {
            "text/plain": [
              "                                               statement      status\n",
              "43007               beginning to enjoy lazy town oh dear      Normal\n",
              "19874  so this reason I am upset is yesterday my frie...  Depression\n",
              "12654  I posted on other sub as well, not fishing for...  Depression"
            ],
            "text/html": [
              "\n",
              "  <div id=\"df-d7b9ca63-cedf-4ff2-91dd-d64680f1cec5\" class=\"colab-df-container\">\n",
              "    <div>\n",
              "<style scoped>\n",
              "    .dataframe tbody tr th:only-of-type {\n",
              "        vertical-align: middle;\n",
              "    }\n",
              "\n",
              "    .dataframe tbody tr th {\n",
              "        vertical-align: top;\n",
              "    }\n",
              "\n",
              "    .dataframe thead th {\n",
              "        text-align: right;\n",
              "    }\n",
              "</style>\n",
              "<table border=\"1\" class=\"dataframe\">\n",
              "  <thead>\n",
              "    <tr style=\"text-align: right;\">\n",
              "      <th></th>\n",
              "      <th>statement</th>\n",
              "      <th>status</th>\n",
              "    </tr>\n",
              "  </thead>\n",
              "  <tbody>\n",
              "    <tr>\n",
              "      <th>43007</th>\n",
              "      <td>beginning to enjoy lazy town oh dear</td>\n",
              "      <td>Normal</td>\n",
              "    </tr>\n",
              "    <tr>\n",
              "      <th>19874</th>\n",
              "      <td>so this reason I am upset is yesterday my frie...</td>\n",
              "      <td>Depression</td>\n",
              "    </tr>\n",
              "    <tr>\n",
              "      <th>12654</th>\n",
              "      <td>I posted on other sub as well, not fishing for...</td>\n",
              "      <td>Depression</td>\n",
              "    </tr>\n",
              "  </tbody>\n",
              "</table>\n",
              "</div>\n",
              "    <div class=\"colab-df-buttons\">\n",
              "\n",
              "  <div class=\"colab-df-container\">\n",
              "    <button class=\"colab-df-convert\" onclick=\"convertToInteractive('df-d7b9ca63-cedf-4ff2-91dd-d64680f1cec5')\"\n",
              "            title=\"Convert this dataframe to an interactive table.\"\n",
              "            style=\"display:none;\">\n",
              "\n",
              "  <svg xmlns=\"http://www.w3.org/2000/svg\" height=\"24px\" viewBox=\"0 -960 960 960\">\n",
              "    <path d=\"M120-120v-720h720v720H120Zm60-500h600v-160H180v160Zm220 220h160v-160H400v160Zm0 220h160v-160H400v160ZM180-400h160v-160H180v160Zm440 0h160v-160H620v160ZM180-180h160v-160H180v160Zm440 0h160v-160H620v160Z\"/>\n",
              "  </svg>\n",
              "    </button>\n",
              "\n",
              "  <style>\n",
              "    .colab-df-container {\n",
              "      display:flex;\n",
              "      gap: 12px;\n",
              "    }\n",
              "\n",
              "    .colab-df-convert {\n",
              "      background-color: #E8F0FE;\n",
              "      border: none;\n",
              "      border-radius: 50%;\n",
              "      cursor: pointer;\n",
              "      display: none;\n",
              "      fill: #1967D2;\n",
              "      height: 32px;\n",
              "      padding: 0 0 0 0;\n",
              "      width: 32px;\n",
              "    }\n",
              "\n",
              "    .colab-df-convert:hover {\n",
              "      background-color: #E2EBFA;\n",
              "      box-shadow: 0px 1px 2px rgba(60, 64, 67, 0.3), 0px 1px 3px 1px rgba(60, 64, 67, 0.15);\n",
              "      fill: #174EA6;\n",
              "    }\n",
              "\n",
              "    .colab-df-buttons div {\n",
              "      margin-bottom: 4px;\n",
              "    }\n",
              "\n",
              "    [theme=dark] .colab-df-convert {\n",
              "      background-color: #3B4455;\n",
              "      fill: #D2E3FC;\n",
              "    }\n",
              "\n",
              "    [theme=dark] .colab-df-convert:hover {\n",
              "      background-color: #434B5C;\n",
              "      box-shadow: 0px 1px 3px 1px rgba(0, 0, 0, 0.15);\n",
              "      filter: drop-shadow(0px 1px 2px rgba(0, 0, 0, 0.3));\n",
              "      fill: #FFFFFF;\n",
              "    }\n",
              "  </style>\n",
              "\n",
              "    <script>\n",
              "      const buttonEl =\n",
              "        document.querySelector('#df-d7b9ca63-cedf-4ff2-91dd-d64680f1cec5 button.colab-df-convert');\n",
              "      buttonEl.style.display =\n",
              "        google.colab.kernel.accessAllowed ? 'block' : 'none';\n",
              "\n",
              "      async function convertToInteractive(key) {\n",
              "        const element = document.querySelector('#df-d7b9ca63-cedf-4ff2-91dd-d64680f1cec5');\n",
              "        const dataTable =\n",
              "          await google.colab.kernel.invokeFunction('convertToInteractive',\n",
              "                                                    [key], {});\n",
              "        if (!dataTable) return;\n",
              "\n",
              "        const docLinkHtml = 'Like what you see? Visit the ' +\n",
              "          '<a target=\"_blank\" href=https://colab.research.google.com/notebooks/data_table.ipynb>data table notebook</a>'\n",
              "          + ' to learn more about interactive tables.';\n",
              "        element.innerHTML = '';\n",
              "        dataTable['output_type'] = 'display_data';\n",
              "        await google.colab.output.renderOutput(dataTable, element);\n",
              "        const docLink = document.createElement('div');\n",
              "        docLink.innerHTML = docLinkHtml;\n",
              "        element.appendChild(docLink);\n",
              "      }\n",
              "    </script>\n",
              "  </div>\n",
              "\n",
              "\n",
              "<div id=\"df-c4b5e623-7fcb-4e73-851e-b647304c3856\">\n",
              "  <button class=\"colab-df-quickchart\" onclick=\"quickchart('df-c4b5e623-7fcb-4e73-851e-b647304c3856')\"\n",
              "            title=\"Suggest charts\"\n",
              "            style=\"display:none;\">\n",
              "\n",
              "<svg xmlns=\"http://www.w3.org/2000/svg\" height=\"24px\"viewBox=\"0 0 24 24\"\n",
              "     width=\"24px\">\n",
              "    <g>\n",
              "        <path d=\"M19 3H5c-1.1 0-2 .9-2 2v14c0 1.1.9 2 2 2h14c1.1 0 2-.9 2-2V5c0-1.1-.9-2-2-2zM9 17H7v-7h2v7zm4 0h-2V7h2v10zm4 0h-2v-4h2v4z\"/>\n",
              "    </g>\n",
              "</svg>\n",
              "  </button>\n",
              "\n",
              "<style>\n",
              "  .colab-df-quickchart {\n",
              "      --bg-color: #E8F0FE;\n",
              "      --fill-color: #1967D2;\n",
              "      --hover-bg-color: #E2EBFA;\n",
              "      --hover-fill-color: #174EA6;\n",
              "      --disabled-fill-color: #AAA;\n",
              "      --disabled-bg-color: #DDD;\n",
              "  }\n",
              "\n",
              "  [theme=dark] .colab-df-quickchart {\n",
              "      --bg-color: #3B4455;\n",
              "      --fill-color: #D2E3FC;\n",
              "      --hover-bg-color: #434B5C;\n",
              "      --hover-fill-color: #FFFFFF;\n",
              "      --disabled-bg-color: #3B4455;\n",
              "      --disabled-fill-color: #666;\n",
              "  }\n",
              "\n",
              "  .colab-df-quickchart {\n",
              "    background-color: var(--bg-color);\n",
              "    border: none;\n",
              "    border-radius: 50%;\n",
              "    cursor: pointer;\n",
              "    display: none;\n",
              "    fill: var(--fill-color);\n",
              "    height: 32px;\n",
              "    padding: 0;\n",
              "    width: 32px;\n",
              "  }\n",
              "\n",
              "  .colab-df-quickchart:hover {\n",
              "    background-color: var(--hover-bg-color);\n",
              "    box-shadow: 0 1px 2px rgba(60, 64, 67, 0.3), 0 1px 3px 1px rgba(60, 64, 67, 0.15);\n",
              "    fill: var(--button-hover-fill-color);\n",
              "  }\n",
              "\n",
              "  .colab-df-quickchart-complete:disabled,\n",
              "  .colab-df-quickchart-complete:disabled:hover {\n",
              "    background-color: var(--disabled-bg-color);\n",
              "    fill: var(--disabled-fill-color);\n",
              "    box-shadow: none;\n",
              "  }\n",
              "\n",
              "  .colab-df-spinner {\n",
              "    border: 2px solid var(--fill-color);\n",
              "    border-color: transparent;\n",
              "    border-bottom-color: var(--fill-color);\n",
              "    animation:\n",
              "      spin 1s steps(1) infinite;\n",
              "  }\n",
              "\n",
              "  @keyframes spin {\n",
              "    0% {\n",
              "      border-color: transparent;\n",
              "      border-bottom-color: var(--fill-color);\n",
              "      border-left-color: var(--fill-color);\n",
              "    }\n",
              "    20% {\n",
              "      border-color: transparent;\n",
              "      border-left-color: var(--fill-color);\n",
              "      border-top-color: var(--fill-color);\n",
              "    }\n",
              "    30% {\n",
              "      border-color: transparent;\n",
              "      border-left-color: var(--fill-color);\n",
              "      border-top-color: var(--fill-color);\n",
              "      border-right-color: var(--fill-color);\n",
              "    }\n",
              "    40% {\n",
              "      border-color: transparent;\n",
              "      border-right-color: var(--fill-color);\n",
              "      border-top-color: var(--fill-color);\n",
              "    }\n",
              "    60% {\n",
              "      border-color: transparent;\n",
              "      border-right-color: var(--fill-color);\n",
              "    }\n",
              "    80% {\n",
              "      border-color: transparent;\n",
              "      border-right-color: var(--fill-color);\n",
              "      border-bottom-color: var(--fill-color);\n",
              "    }\n",
              "    90% {\n",
              "      border-color: transparent;\n",
              "      border-bottom-color: var(--fill-color);\n",
              "    }\n",
              "  }\n",
              "</style>\n",
              "\n",
              "  <script>\n",
              "    async function quickchart(key) {\n",
              "      const quickchartButtonEl =\n",
              "        document.querySelector('#' + key + ' button');\n",
              "      quickchartButtonEl.disabled = true;  // To prevent multiple clicks.\n",
              "      quickchartButtonEl.classList.add('colab-df-spinner');\n",
              "      try {\n",
              "        const charts = await google.colab.kernel.invokeFunction(\n",
              "            'suggestCharts', [key], {});\n",
              "      } catch (error) {\n",
              "        console.error('Error during call to suggestCharts:', error);\n",
              "      }\n",
              "      quickchartButtonEl.classList.remove('colab-df-spinner');\n",
              "      quickchartButtonEl.classList.add('colab-df-quickchart-complete');\n",
              "    }\n",
              "    (() => {\n",
              "      let quickchartButtonEl =\n",
              "        document.querySelector('#df-c4b5e623-7fcb-4e73-851e-b647304c3856 button');\n",
              "      quickchartButtonEl.style.display =\n",
              "        google.colab.kernel.accessAllowed ? 'block' : 'none';\n",
              "    })();\n",
              "  </script>\n",
              "</div>\n",
              "\n",
              "    </div>\n",
              "  </div>\n"
            ],
            "application/vnd.google.colaboratory.intrinsic+json": {
              "type": "dataframe",
              "summary": "{\n  \"name\": \"df\",\n  \"rows\": 3,\n  \"fields\": [\n    {\n      \"column\": \"statement\",\n      \"properties\": {\n        \"dtype\": \"string\",\n        \"num_unique_values\": 3,\n        \"samples\": [\n          \"beginning to enjoy lazy town oh dear\",\n          \"so this reason I am upset is yesterday my friend grayson who has many metal heath problems locked themselves in the bathroom i opened the door and they wear crying with a knife in there hand and i took it from them and then i put my hoodie on them and we had to lie to their parents and say that they threw up there not supposed to throw up cuss they have a tube in their stomach and then her cousin called me and when to me and gray and yelled at gray and gray just keep holding me and then savanna told me to fuck off and that it was not my business but i could not leave gray when they wear crying like that then once everyone calmed down gray told them how i stopped gray from killing themselves if i was 2 Minutes later they would have been died then savanna thanked me for saving gray and then i went to my site and my mom yelled at me for drama and for helping cry my mom called gray selfish for doing that but my mom dosent know that i tried to die many times and then i cried my self to sleep and told my mom everything that was going oni texted gray telling them that i would not see then again anytime soon and said i love you to them and deleted it but when gray said i love you too my mom says really is she ur new lesbian friend or something and I am like no mom i care about herand then my dad and mom went out side and talked about me but i herd everythingi almost tried to kill myself last night but i wrout in my diary to calm down then i cried myself to sleepevery time i see the hoodie i let them wear yesterday i get a flash back of gray almost dieingand when my mom start raising her voice even just a little i panici was if i got there any later they would have been diednot only did i had to put on a brave face and be there for graysonmy 19 year old cousin was talking with her mom and her mom talked to my mom so then my mom got mad at my cousin and my cousin Dee did not know what to do so i have to help her write a note to say to my mom and i had to talk my mom hears how the convo when the () is what my mom saidhi mom dee wants to talk with you privately( idk is she going to be a mature adult about it ) yes I believe that now you both have cooled down and dee has had water she wrote down what she wanted to say. then mom said ok and to give her a minute Then she when out into the living room where me and dee wereis dee\\\"\\\" dee () is mom i me is just normal text10:16 AMso mom sat down and dee said \\\" aunt denise I am sorry for not coming to you i went to mother instead i am not used to having someone else to relay on pls forgive me . ( i know but you lied to to ur mom and told her that i yell at you and that you always get into trouble that is not true ur lieing to ur mom and ur lieing to urself ) then dee said ur right then i just sat there and let them talk. then mom went back to her roomthen mom told me go into there roomso i did and then she said how that i have bad friends at that i should not care so much and I am crying and i said i know i should not care so much but i try to fix them because i need to distract myself from my own issues and own thoughts. then dad gives me a hug and say its ok ur learn that not everyone can be fix i said i know i try so hard to fix others cuz i know i cannot fix myself cuz i bury my thoughts so deep down that i forget that i have then and i care so much about other becuase i wanana fix what i know i cannot fix about myselfi almost tried to hang myself last nightbut i new a few days ago that i was stuggling more that normal so i handed my stirng to dee and she hind it pls help I am only 13 idk what to do\",\n          \"I posted on other sub as well, not fishing for anything just want to vent that is all.I am a lame and an ugly dude. Someone i knew once told me that i got a head that only a mother could love. Another one told me that I am lucky that i am a boy cuz no one would marry me if i were a girl. I rarely had any luck with girls. When i go out with my friend girls always fancy him. I never get any attention. Throughout my 24 years on this earth, i can only think of three girls who were interested in me. One made out with me but stop halfway because I was inexperienced in kissing. The other two exchanged numbers but they never wanted to go out with me. The only thing i got going on in my life is my job as a mechanical engineer and potential inheritance from my parents. Everyday is sadness fest for me. I feel lonely. I always wonder what is it like to be in a relationship, to have friends to talk to, weekend plans to look forward to. I never look forward to going home after work instead i burry my sorrows with overtime. I want to have friends to go to festivals with. what is stopping me from achieving all of the things i listed, are my insecurities about my look, my lack of social skills due to years of oppression during my childhood, my social anxiety and my looping depression.How can my life get better if i get nervous when talking people ? How can my hope to meet a romantic partner be actualised when I do not have the social skills ?How can develop my social skills when i get social anxiety when i am in a social setting ?I do not see a way out of this beside death, and a really optimistic belief that i will go to heaven or reborn again as a penguin (cuz they are cute).My constant suicidal thoughts get stronger and stronger everyday and I have no one to talk too. This is my first time posting my feeling out in public, I do not expect anything in return. I just want to vent out..I do not want to die but the pain is too hard to handle. I am so done, but am I ready to end it ????\"\n        ],\n        \"semantic_type\": \"\",\n        \"description\": \"\"\n      }\n    },\n    {\n      \"column\": \"status\",\n      \"properties\": {\n        \"dtype\": \"string\",\n        \"num_unique_values\": 2,\n        \"samples\": [\n          \"Depression\",\n          \"Normal\"\n        ],\n        \"semantic_type\": \"\",\n        \"description\": \"\"\n      }\n    }\n  ]\n}"
            }
          },
          "metadata": {},
          "execution_count": 9
        }
      ]
    },
    {
      "cell_type": "code",
      "source": [
        "df['status'].value_counts()"
      ],
      "metadata": {
        "id": "83PHjl_aDio2",
        "outputId": "3ff7cb4e-12e7-40e5-f6b2-4da2d9a3a431",
        "colab": {
          "base_uri": "https://localhost:8080/",
          "height": 335
        },
        "collapsed": true
      },
      "execution_count": 10,
      "outputs": [
        {
          "output_type": "execute_result",
          "data": {
            "text/plain": [
              "status\n",
              "Normal                  16351\n",
              "Depression              15404\n",
              "Suicidal                10653\n",
              "Anxiety                  3888\n",
              "Bipolar                  2877\n",
              "Stress                   2669\n",
              "Personality disorder     1201\n",
              "Name: count, dtype: int64"
            ],
            "text/html": [
              "<div>\n",
              "<style scoped>\n",
              "    .dataframe tbody tr th:only-of-type {\n",
              "        vertical-align: middle;\n",
              "    }\n",
              "\n",
              "    .dataframe tbody tr th {\n",
              "        vertical-align: top;\n",
              "    }\n",
              "\n",
              "    .dataframe thead th {\n",
              "        text-align: right;\n",
              "    }\n",
              "</style>\n",
              "<table border=\"1\" class=\"dataframe\">\n",
              "  <thead>\n",
              "    <tr style=\"text-align: right;\">\n",
              "      <th></th>\n",
              "      <th>count</th>\n",
              "    </tr>\n",
              "    <tr>\n",
              "      <th>status</th>\n",
              "      <th></th>\n",
              "    </tr>\n",
              "  </thead>\n",
              "  <tbody>\n",
              "    <tr>\n",
              "      <th>Normal</th>\n",
              "      <td>16351</td>\n",
              "    </tr>\n",
              "    <tr>\n",
              "      <th>Depression</th>\n",
              "      <td>15404</td>\n",
              "    </tr>\n",
              "    <tr>\n",
              "      <th>Suicidal</th>\n",
              "      <td>10653</td>\n",
              "    </tr>\n",
              "    <tr>\n",
              "      <th>Anxiety</th>\n",
              "      <td>3888</td>\n",
              "    </tr>\n",
              "    <tr>\n",
              "      <th>Bipolar</th>\n",
              "      <td>2877</td>\n",
              "    </tr>\n",
              "    <tr>\n",
              "      <th>Stress</th>\n",
              "      <td>2669</td>\n",
              "    </tr>\n",
              "    <tr>\n",
              "      <th>Personality disorder</th>\n",
              "      <td>1201</td>\n",
              "    </tr>\n",
              "  </tbody>\n",
              "</table>\n",
              "</div><br><label><b>dtype:</b> int64</label>"
            ]
          },
          "metadata": {},
          "execution_count": 10
        }
      ]
    },
    {
      "cell_type": "code",
      "source": [
        "df['status'].unique()"
      ],
      "metadata": {
        "id": "BfCb1a8pDio3",
        "outputId": "8e1aa60a-807e-498e-d97e-fd8d71f99706",
        "colab": {
          "base_uri": "https://localhost:8080/"
        }
      },
      "execution_count": 11,
      "outputs": [
        {
          "output_type": "execute_result",
          "data": {
            "text/plain": [
              "array(['Anxiety', 'Normal', 'Depression', 'Suicidal', 'Stress', 'Bipolar',\n",
              "       'Personality disorder'], dtype=object)"
            ]
          },
          "metadata": {},
          "execution_count": 11
        }
      ]
    },
    {
      "cell_type": "code",
      "source": [
        "df['status'].nunique()"
      ],
      "metadata": {
        "id": "Y0IUhvPdDio3",
        "outputId": "7ac599fc-3ab2-45e7-c10a-091d0aa1f481",
        "colab": {
          "base_uri": "https://localhost:8080/"
        }
      },
      "execution_count": 12,
      "outputs": [
        {
          "output_type": "execute_result",
          "data": {
            "text/plain": [
              "7"
            ]
          },
          "metadata": {},
          "execution_count": 12
        }
      ]
    },
    {
      "cell_type": "code",
      "source": [
        "mp.figure(figsize=(10,5))\n",
        "sn.countplot(df['status'])\n",
        "mp.xlabel(\"Status of Patitents\")\n",
        "mp.ylabel(\"No. of Patitents\")\n",
        "mp.title(\"Patitents With Respective Status\")\n",
        "mp.xticks(rotation=45)\n",
        "mp.show()"
      ],
      "metadata": {
        "id": "3e8KYFonDio3",
        "outputId": "a332c286-e94d-465b-d919-1b385f47a0e2",
        "colab": {
          "base_uri": "https://localhost:8080/",
          "height": 514
        },
        "collapsed": true
      },
      "execution_count": 13,
      "outputs": [
        {
          "output_type": "display_data",
          "data": {
            "text/plain": [
              "<Figure size 1000x500 with 1 Axes>"
            ],
            "image/png": "[encoded data removed]"
          },
          "metadata": {}
        }
      ]
    },
    {
      "cell_type": "code",
      "source": [
        "df.info()"
      ],
      "metadata": {
        "id": "vulMB-EhDio3",
        "outputId": "6dcb42d4-078f-4230-c871-b90d59c44c0d",
        "colab": {
          "base_uri": "https://localhost:8080/"
        }
      },
      "execution_count": 14,
      "outputs": [
        {
          "output_type": "stream",
          "name": "stdout",
          "text": [
            "<class 'pandas.core.frame.DataFrame'>\n",
            "RangeIndex: 53043 entries, 0 to 53042\n",
            "Data columns (total 2 columns):\n",
            " #   Column     Non-Null Count  Dtype \n",
            "---  ------     --------------  ----- \n",
            " 0   statement  52681 non-null  object\n",
            " 1   status     53043 non-null  object\n",
            "dtypes: object(2)\n",
            "memory usage: 828.9+ KB\n"
          ]
        }
      ]
    },
    {
      "cell_type": "code",
      "source": [
        "df.isna().sum()"
      ],
      "metadata": {
        "id": "d9xiKNI5Dio3",
        "outputId": "45ea2b25-d632-4372-bec7-ccaaeb1e8aac",
        "colab": {
          "base_uri": "https://localhost:8080/",
          "height": 147
        }
      },
      "execution_count": 15,
      "outputs": [
        {
          "output_type": "execute_result",
          "data": {
            "text/plain": [
              "statement    362\n",
              "status         0\n",
              "dtype: int64"
            ],
            "text/html": [
              "<div>\n",
              "<style scoped>\n",
              "    .dataframe tbody tr th:only-of-type {\n",
              "        vertical-align: middle;\n",
              "    }\n",
              "\n",
              "    .dataframe tbody tr th {\n",
              "        vertical-align: top;\n",
              "    }\n",
              "\n",
              "    .dataframe thead th {\n",
              "        text-align: right;\n",
              "    }\n",
              "</style>\n",
              "<table border=\"1\" class=\"dataframe\">\n",
              "  <thead>\n",
              "    <tr style=\"text-align: right;\">\n",
              "      <th></th>\n",
              "      <th>0</th>\n",
              "    </tr>\n",
              "  </thead>\n",
              "  <tbody>\n",
              "    <tr>\n",
              "      <th>statement</th>\n",
              "      <td>362</td>\n",
              "    </tr>\n",
              "    <tr>\n",
              "      <th>status</th>\n",
              "      <td>0</td>\n",
              "    </tr>\n",
              "  </tbody>\n",
              "</table>\n",
              "</div><br><label><b>dtype:</b> int64</label>"
            ]
          },
          "metadata": {},
          "execution_count": 15
        }
      ]
    },
    {
      "cell_type": "code",
      "source": [
        "df.shape"
      ],
      "metadata": {
        "id": "h9STZ2K8Dio3",
        "outputId": "74787084-e88d-45aa-859c-823e27bb1136",
        "colab": {
          "base_uri": "https://localhost:8080/"
        }
      },
      "execution_count": 16,
      "outputs": [
        {
          "output_type": "execute_result",
          "data": {
            "text/plain": [
              "(53043, 2)"
            ]
          },
          "metadata": {},
          "execution_count": 16
        }
      ]
    },
    {
      "cell_type": "code",
      "source": [
        "df.dropna(inplace=True)"
      ],
      "metadata": {
        "id": "lLCz2iNTDio3"
      },
      "execution_count": 17,
      "outputs": []
    },
    {
      "cell_type": "code",
      "source": [
        "df.shape"
      ],
      "metadata": {
        "id": "VghPb2v6Dio4",
        "outputId": "25f6f5d5-327f-4f37-dcbc-8a68af94d307",
        "colab": {
          "base_uri": "https://localhost:8080/"
        }
      },
      "execution_count": 18,
      "outputs": [
        {
          "output_type": "execute_result",
          "data": {
            "text/plain": [
              "(52681, 2)"
            ]
          },
          "metadata": {},
          "execution_count": 18
        }
      ]
    },
    {
      "cell_type": "markdown",
      "source": [
        "# 🔄 **Resampling and Preprocessing** 🛠️\n",
        "\n",
        "### 📊 **Resampling the Data**\n",
        "\n",
        "- **Max Count Calculation** 📏: The maximum count of instances in any category is calculated.\n",
        "  - **Result**: The maximum count is 16,343.\n",
        "- **Resampling Function** 🛠️: A function `resmpl()` is defined to handle the resampling process.\n",
        "  - **Goal**: Ensure each category has the same number of instances (16,343).\n",
        "  - **Process**:\n",
        "    - For each status category, if the number of instances is less than the max count, instances are resampled with replacement until they reach the max count.\n",
        "    - If the category already has instances equal to the max count, they are left unchanged.\n",
        "- **Resampled Data** 📈: The DataFrame is updated with the resampled data.\n",
        "\n",
        "### 🔍 **Checking Resampled Data**\n",
        "\n",
        "- **Value Counts** 🔢: The distribution of each status category is checked.\n",
        "  - **Result**: Each status now has 16,343 instances.\n",
        "- **Shape of Data** 🔄: The shape of the DataFrame is checked.\n",
        "  - **Result**: The DataFrame now has 114,401 rows and 2 columns.\n",
        "\n",
        "### 🗂️ **Data Information**\n",
        "\n",
        "- **Data Summary** 🗂️: The `info()` method is used to get a summary of the resampled DataFrame.\n",
        "  - **RangeIndex**: The DataFrame has 114,401 entries.\n",
        "  - **Columns**: There are 2 columns: `statement` and `status`.\n",
        "  - **Non-null Counts**: Both columns have 114,401 non-null values.\n",
        "  - **Data Types**: Both columns are of object type.\n",
        "  - **Memory Usage**: The DataFrame uses approximately 2.6 MB of memory.\n",
        "\n",
        "### 🚫 **Handling Missing Values and Duplicates**\n",
        "\n",
        "- **Missing Values Check** 🧮: The count of missing values in each column is displayed.\n",
        "  - **Result**: There are no missing values in either column.\n",
        "- **Duplicate Check** 🔄: The number of duplicate rows is checked.\n",
        "  - **Result**: There are 70,887 duplicate rows.\n",
        "\n",
        "### ✂️ **Text Preprocessing**\n",
        "\n",
        "- **Porter Stemmer** ✂️: An instance of the PorterStemmer from NLTK is created for stemming.\n",
        "- **Preprocessing Function** 🔄: A function `preprocessing()` is defined to preprocess the text data.\n",
        "  - **Goal**: Clean and stem the text data to prepare it for analysis.\n",
        "  - **Process**:\n",
        "    - Remove non-alphanumeric characters.\n",
        "    - Convert text to lowercase.\n",
        "    - Apply stemming to reduce words to their root form.\n",
        "- **Applying Preprocessing** 🧼: The `statement` column is updated with the preprocessed text data.\n",
        "\n",
        "By performing these steps, you have resampled your data to balance the categories, handled missing values and duplicates, and preprocessed the text data to make it suitable for further analysis and modeling. 📈📉\n"
      ],
      "metadata": {
        "id": "XRgorVVKDio4"
      }
    },
    {
      "cell_type": "code",
      "source": [
        "max_count=df['status'].value_counts().max()\n",
        "max_count"
      ],
      "metadata": {
        "id": "XUU6elCyDio4",
        "outputId": "0c6b1470-6316-465b-d3b3-a49f3eb82790",
        "colab": {
          "base_uri": "https://localhost:8080/"
        }
      },
      "execution_count": 19,
      "outputs": [
        {
          "output_type": "execute_result",
          "data": {
            "text/plain": [
              "16343"
            ]
          },
          "metadata": {},
          "execution_count": 19
        }
      ]
    },
    {
      "cell_type": "code",
      "source": [
        "def resmpl(df):\n",
        "    max_count = df['status'].value_counts().max()\n",
        "\n",
        "    df_resampled = pd.DataFrame()\n",
        "\n",
        "    for status in df['status'].unique():\n",
        "        df_class = df[df['status'] == status]\n",
        "        if len(df_class) < max_count:\n",
        "            df_class_resampled = resample(df_class,\n",
        "                                          replace=True,\n",
        "                                          n_samples=max_count,\n",
        "                                          random_state=42)\n",
        "            df_resampled = pd.concat([df_resampled, df_class_resampled])\n",
        "        else:\n",
        "            df_resampled = pd.concat([df_resampled, df_class])\n",
        "\n",
        "    return df_resampled\n",
        "\n",
        "\n",
        "df = resmpl(df)\n",
        "\n"
      ],
      "metadata": {
        "id": "ZyCJNFX4Dio4"
      },
      "execution_count": 20,
      "outputs": []
    },
    {
      "cell_type": "code",
      "source": [
        "df.sample(5)"
      ],
      "metadata": {
        "id": "l1E5s_eKDio4",
        "outputId": "ec5636c6-e759-43e4-a27f-ecb3cf04b9d6",
        "colab": {
          "base_uri": "https://localhost:8080/",
          "height": 206
        }
      },
      "execution_count": 21,
      "outputs": [
        {
          "output_type": "execute_result",
          "data": {
            "text/plain": [
              "                                               statement   status\n",
              "32464                                  where did you go?   Normal\n",
              "46410  Has anyone here experienced fatigue with Lamic...  Bipolar\n",
              "35176  Worried about my chest &amp; breathing Does an...  Anxiety\n",
              "50013  Never Going Home So I have this thing, I don’t...  Bipolar\n",
              "45969  CBT? DBT? Anyone had good experiences? I'm run...  Bipolar"
            ],
            "text/html": [
              "\n",
              "  <div id=\"df-25cb2e32-5b2d-4db3-909e-56f207b87edb\" class=\"colab-df-container\">\n",
              "    <div>\n",
              "<style scoped>\n",
              "    .dataframe tbody tr th:only-of-type {\n",
              "        vertical-align: middle;\n",
              "    }\n",
              "\n",
              "    .dataframe tbody tr th {\n",
              "        vertical-align: top;\n",
              "    }\n",
              "\n",
              "    .dataframe thead th {\n",
              "        text-align: right;\n",
              "    }\n",
              "</style>\n",
              "<table border=\"1\" class=\"dataframe\">\n",
              "  <thead>\n",
              "    <tr style=\"text-align: right;\">\n",
              "      <th></th>\n",
              "      <th>statement</th>\n",
              "      <th>status</th>\n",
              "    </tr>\n",
              "  </thead>\n",
              "  <tbody>\n",
              "    <tr>\n",
              "      <th>32464</th>\n",
              "      <td>where did you go?</td>\n",
              "      <td>Normal</td>\n",
              "    </tr>\n",
              "    <tr>\n",
              "      <th>46410</th>\n",
              "      <td>Has anyone here experienced fatigue with Lamic...</td>\n",
              "      <td>Bipolar</td>\n",
              "    </tr>\n",
              "    <tr>\n",
              "      <th>35176</th>\n",
              "      <td>Worried about my chest &amp;amp; breathing Does an...</td>\n",
              "      <td>Anxiety</td>\n",
              "    </tr>\n",
              "    <tr>\n",
              "      <th>50013</th>\n",
              "      <td>Never Going Home So I have this thing, I don’t...</td>\n",
              "      <td>Bipolar</td>\n",
              "    </tr>\n",
              "    <tr>\n",
              "      <th>45969</th>\n",
              "      <td>CBT? DBT? Anyone had good experiences? I'm run...</td>\n",
              "      <td>Bipolar</td>\n",
              "    </tr>\n",
              "  </tbody>\n",
              "</table>\n",
              "</div>\n",
              "    <div class=\"colab-df-buttons\">\n",
              "\n",
              "  <div class=\"colab-df-container\">\n",
              "    <button class=\"colab-df-convert\" onclick=\"convertToInteractive('df-25cb2e32-5b2d-4db3-909e-56f207b87edb')\"\n",
              "            title=\"Convert this dataframe to an interactive table.\"\n",
              "            style=\"display:none;\">\n",
              "\n",
              "  <svg xmlns=\"http://www.w3.org/2000/svg\" height=\"24px\" viewBox=\"0 -960 960 960\">\n",
              "    <path d=\"M120-120v-720h720v720H120Zm60-500h600v-160H180v160Zm220 220h160v-160H400v160Zm0 220h160v-160H400v160ZM180-400h160v-160H180v160Zm440 0h160v-160H620v160ZM180-180h160v-160H180v160Zm440 0h160v-160H620v160Z\"/>\n",
              "  </svg>\n",
              "    </button>\n",
              "\n",
              "  <style>\n",
              "    .colab-df-container {\n",
              "      display:flex;\n",
              "      gap: 12px;\n",
              "    }\n",
              "\n",
              "    .colab-df-convert {\n",
              "      background-color: #E8F0FE;\n",
              "      border: none;\n",
              "      border-radius: 50%;\n",
              "      cursor: pointer;\n",
              "      display: none;\n",
              "      fill: #1967D2;\n",
              "      height: 32px;\n",
              "      padding: 0 0 0 0;\n",
              "      width: 32px;\n",
              "    }\n",
              "\n",
              "    .colab-df-convert:hover {\n",
              "      background-color: #E2EBFA;\n",
              "      box-shadow: 0px 1px 2px rgba(60, 64, 67, 0.3), 0px 1px 3px 1px rgba(60, 64, 67, 0.15);\n",
              "      fill: #174EA6;\n",
              "    }\n",
              "\n",
              "    .colab-df-buttons div {\n",
              "      margin-bottom: 4px;\n",
              "    }\n",
              "\n",
              "    [theme=dark] .colab-df-convert {\n",
              "      background-color: #3B4455;\n",
              "      fill: #D2E3FC;\n",
              "    }\n",
              "\n",
              "    [theme=dark] .colab-df-convert:hover {\n",
              "      background-color: #434B5C;\n",
              "      box-shadow: 0px 1px 3px 1px rgba(0, 0, 0, 0.15);\n",
              "      filter: drop-shadow(0px 1px 2px rgba(0, 0, 0, 0.3));\n",
              "      fill: #FFFFFF;\n",
              "    }\n",
              "  </style>\n",
              "\n",
              "    <script>\n",
              "      const buttonEl =\n",
              "        document.querySelector('#df-25cb2e32-5b2d-4db3-909e-56f207b87edb button.colab-df-convert');\n",
              "      buttonEl.style.display =\n",
              "        google.colab.kernel.accessAllowed ? 'block' : 'none';\n",
              "\n",
              "      async function convertToInteractive(key) {\n",
              "        const element = document.querySelector('#df-25cb2e32-5b2d-4db3-909e-56f207b87edb');\n",
              "        const dataTable =\n",
              "          await google.colab.kernel.invokeFunction('convertToInteractive',\n",
              "                                                    [key], {});\n",
              "        if (!dataTable) return;\n",
              "\n",
              "        const docLinkHtml = 'Like what you see? Visit the ' +\n",
              "          '<a target=\"_blank\" href=https://colab.research.google.com/notebooks/data_table.ipynb>data table notebook</a>'\n",
              "          + ' to learn more about interactive tables.';\n",
              "        element.innerHTML = '';\n",
              "        dataTable['output_type'] = 'display_data';\n",
              "        await google.colab.output.renderOutput(dataTable, element);\n",
              "        const docLink = document.createElement('div');\n",
              "        docLink.innerHTML = docLinkHtml;\n",
              "        element.appendChild(docLink);\n",
              "      }\n",
              "    </script>\n",
              "  </div>\n",
              "\n",
              "\n",
              "<div id=\"df-8a2b4ba3-c780-4d1c-9860-eb51108425bd\">\n",
              "  <button class=\"colab-df-quickchart\" onclick=\"quickchart('df-8a2b4ba3-c780-4d1c-9860-eb51108425bd')\"\n",
              "            title=\"Suggest charts\"\n",
              "            style=\"display:none;\">\n",
              "\n",
              "<svg xmlns=\"http://www.w3.org/2000/svg\" height=\"24px\"viewBox=\"0 0 24 24\"\n",
              "     width=\"24px\">\n",
              "    <g>\n",
              "        <path d=\"M19 3H5c-1.1 0-2 .9-2 2v14c0 1.1.9 2 2 2h14c1.1 0 2-.9 2-2V5c0-1.1-.9-2-2-2zM9 17H7v-7h2v7zm4 0h-2V7h2v10zm4 0h-2v-4h2v4z\"/>\n",
              "    </g>\n",
              "</svg>\n",
              "  </button>\n",
              "\n",
              "<style>\n",
              "  .colab-df-quickchart {\n",
              "      --bg-color: #E8F0FE;\n",
              "      --fill-color: #1967D2;\n",
              "      --hover-bg-color: #E2EBFA;\n",
              "      --hover-fill-color: #174EA6;\n",
              "      --disabled-fill-color: #AAA;\n",
              "      --disabled-bg-color: #DDD;\n",
              "  }\n",
              "\n",
              "  [theme=dark] .colab-df-quickchart {\n",
              "      --bg-color: #3B4455;\n",
              "      --fill-color: #D2E3FC;\n",
              "      --hover-bg-color: #434B5C;\n",
              "      --hover-fill-color: #FFFFFF;\n",
              "      --disabled-bg-color: #3B4455;\n",
              "      --disabled-fill-color: #666;\n",
              "  }\n",
              "\n",
              "  .colab-df-quickchart {\n",
              "    background-color: var(--bg-color);\n",
              "    border: none;\n",
              "    border-radius: 50%;\n",
              "    cursor: pointer;\n",
              "    display: none;\n",
              "    fill: var(--fill-color);\n",
              "    height: 32px;\n",
              "    padding: 0;\n",
              "    width: 32px;\n",
              "  }\n",
              "\n",
              "  .colab-df-quickchart:hover {\n",
              "    background-color: var(--hover-bg-color);\n",
              "    box-shadow: 0 1px 2px rgba(60, 64, 67, 0.3), 0 1px 3px 1px rgba(60, 64, 67, 0.15);\n",
              "    fill: var(--button-hover-fill-color);\n",
              "  }\n",
              "\n",
              "  .colab-df-quickchart-complete:disabled,\n",
              "  .colab-df-quickchart-complete:disabled:hover {\n",
              "    background-color: var(--disabled-bg-color);\n",
              "    fill: var(--disabled-fill-color);\n",
              "    box-shadow: none;\n",
              "  }\n",
              "\n",
              "  .colab-df-spinner {\n",
              "    border: 2px solid var(--fill-color);\n",
              "    border-color: transparent;\n",
              "    border-bottom-color: var(--fill-color);\n",
              "    animation:\n",
              "      spin 1s steps(1) infinite;\n",
              "  }\n",
              "\n",
              "  @keyframes spin {\n",
              "    0% {\n",
              "      border-color: transparent;\n",
              "      border-bottom-color: var(--fill-color);\n",
              "      border-left-color: var(--fill-color);\n",
              "    }\n",
              "    20% {\n",
              "      border-color: transparent;\n",
              "      border-left-color: var(--fill-color);\n",
              "      border-top-color: var(--fill-color);\n",
              "    }\n",
              "    30% {\n",
              "      border-color: transparent;\n",
              "      border-left-color: var(--fill-color);\n",
              "      border-top-color: var(--fill-color);\n",
              "      border-right-color: var(--fill-color);\n",
              "    }\n",
              "    40% {\n",
              "      border-color: transparent;\n",
              "      border-right-color: var(--fill-color);\n",
              "      border-top-color: var(--fill-color);\n",
              "    }\n",
              "    60% {\n",
              "      border-color: transparent;\n",
              "      border-right-color: var(--fill-color);\n",
              "    }\n",
              "    80% {\n",
              "      border-color: transparent;\n",
              "      border-right-color: var(--fill-color);\n",
              "      border-bottom-color: var(--fill-color);\n",
              "    }\n",
              "    90% {\n",
              "      border-color: transparent;\n",
              "      border-bottom-color: var(--fill-color);\n",
              "    }\n",
              "  }\n",
              "</style>\n",
              "\n",
              "  <script>\n",
              "    async function quickchart(key) {\n",
              "      const quickchartButtonEl =\n",
              "        document.querySelector('#' + key + ' button');\n",
              "      quickchartButtonEl.disabled = true;  // To prevent multiple clicks.\n",
              "      quickchartButtonEl.classList.add('colab-df-spinner');\n",
              "      try {\n",
              "        const charts = await google.colab.kernel.invokeFunction(\n",
              "            'suggestCharts', [key], {});\n",
              "      } catch (error) {\n",
              "        console.error('Error during call to suggestCharts:', error);\n",
              "      }\n",
              "      quickchartButtonEl.classList.remove('colab-df-spinner');\n",
              "      quickchartButtonEl.classList.add('colab-df-quickchart-complete');\n",
              "    }\n",
              "    (() => {\n",
              "      let quickchartButtonEl =\n",
              "        document.querySelector('#df-8a2b4ba3-c780-4d1c-9860-eb51108425bd button');\n",
              "      quickchartButtonEl.style.display =\n",
              "        google.colab.kernel.accessAllowed ? 'block' : 'none';\n",
              "    })();\n",
              "  </script>\n",
              "</div>\n",
              "\n",
              "    </div>\n",
              "  </div>\n"
            ],
            "application/vnd.google.colaboratory.intrinsic+json": {
              "type": "dataframe",
              "summary": "{\n  \"name\": \"df\",\n  \"rows\": 5,\n  \"fields\": [\n    {\n      \"column\": \"statement\",\n      \"properties\": {\n        \"dtype\": \"string\",\n        \"num_unique_values\": 5,\n        \"samples\": [\n          \"Has anyone here experienced fatigue with Lamictal/Lamotrigine? I've been on lamotrigine for five years now. I cut my dose in half a little over a year ago because it was killing my immune system - my body could barely fight a cold - and I noticed a spike in my energy then.\\n\\nIt's getting to the point where I'm really worried I've got chronic fatigue or something. I work from home and don't have any kids, so it's not like I have a super hectic lifestyle or anything. I'm wondering if the lamotrigine might be contributing. Thoughts? Experiences?\",\n          \"CBT? DBT? Anyone had good experiences? I'm running out of drugs I can try. Vibryd, Lamictal, Latuda, and welbutrin worked for two years but then I crashed and i'm back to zero. Have tried many drugs but pdoc is useless for therapy otherwise. Want to try other therapy stuff in concert with drugs. Does anything work on bipolar?\",\n          \"Worried about my chest &amp; breathing Does anyone ever experience what feels like someone is pushing a clenched fist on the center of their chest? And when you breathe in it kinda wheezes? My doctor said it\\u2019s normal and it\\u2019s the vocal chords but idk that seems odd to me. I have such a pressure in my chest sometimes along with some dull or sharp pains. I try my hardest not to freak out when this happens but it\\u2019s so hard \"\n        ],\n        \"semantic_type\": \"\",\n        \"description\": \"\"\n      }\n    },\n    {\n      \"column\": \"status\",\n      \"properties\": {\n        \"dtype\": \"string\",\n        \"num_unique_values\": 3,\n        \"samples\": [\n          \"Normal\",\n          \"Bipolar\",\n          \"Anxiety\"\n        ],\n        \"semantic_type\": \"\",\n        \"description\": \"\"\n      }\n    }\n  ]\n}"
            }
          },
          "metadata": {},
          "execution_count": 21
        }
      ]
    },
    {
      "cell_type": "code",
      "source": [
        "df.status.value_counts()"
      ],
      "metadata": {
        "id": "9jv7cVMaDio4",
        "outputId": "b19323a7-7abb-446b-bae4-9c9942220928",
        "colab": {
          "base_uri": "https://localhost:8080/",
          "height": 335
        }
      },
      "execution_count": 22,
      "outputs": [
        {
          "output_type": "execute_result",
          "data": {
            "text/plain": [
              "status\n",
              "Anxiety                 16343\n",
              "Normal                  16343\n",
              "Depression              16343\n",
              "Suicidal                16343\n",
              "Stress                  16343\n",
              "Bipolar                 16343\n",
              "Personality disorder    16343\n",
              "Name: count, dtype: int64"
            ],
            "text/html": [
              "<div>\n",
              "<style scoped>\n",
              "    .dataframe tbody tr th:only-of-type {\n",
              "        vertical-align: middle;\n",
              "    }\n",
              "\n",
              "    .dataframe tbody tr th {\n",
              "        vertical-align: top;\n",
              "    }\n",
              "\n",
              "    .dataframe thead th {\n",
              "        text-align: right;\n",
              "    }\n",
              "</style>\n",
              "<table border=\"1\" class=\"dataframe\">\n",
              "  <thead>\n",
              "    <tr style=\"text-align: right;\">\n",
              "      <th></th>\n",
              "      <th>count</th>\n",
              "    </tr>\n",
              "    <tr>\n",
              "      <th>status</th>\n",
              "      <th></th>\n",
              "    </tr>\n",
              "  </thead>\n",
              "  <tbody>\n",
              "    <tr>\n",
              "      <th>Anxiety</th>\n",
              "      <td>16343</td>\n",
              "    </tr>\n",
              "    <tr>\n",
              "      <th>Normal</th>\n",
              "      <td>16343</td>\n",
              "    </tr>\n",
              "    <tr>\n",
              "      <th>Depression</th>\n",
              "      <td>16343</td>\n",
              "    </tr>\n",
              "    <tr>\n",
              "      <th>Suicidal</th>\n",
              "      <td>16343</td>\n",
              "    </tr>\n",
              "    <tr>\n",
              "      <th>Stress</th>\n",
              "      <td>16343</td>\n",
              "    </tr>\n",
              "    <tr>\n",
              "      <th>Bipolar</th>\n",
              "      <td>16343</td>\n",
              "    </tr>\n",
              "    <tr>\n",
              "      <th>Personality disorder</th>\n",
              "      <td>16343</td>\n",
              "    </tr>\n",
              "  </tbody>\n",
              "</table>\n",
              "</div><br><label><b>dtype:</b> int64</label>"
            ]
          },
          "metadata": {},
          "execution_count": 22
        }
      ]
    },
    {
      "cell_type": "code",
      "source": [
        "df.shape"
      ],
      "metadata": {
        "id": "3lm7kRF6Dio4",
        "outputId": "52489769-745d-4d78-86d3-2f22e4dc72ad",
        "colab": {
          "base_uri": "https://localhost:8080/"
        }
      },
      "execution_count": 23,
      "outputs": [
        {
          "output_type": "execute_result",
          "data": {
            "text/plain": [
              "(114401, 2)"
            ]
          },
          "metadata": {},
          "execution_count": 23
        }
      ]
    },
    {
      "cell_type": "code",
      "source": [
        "df.info()"
      ],
      "metadata": {
        "id": "e4JhjleIDio5",
        "outputId": "e3cc9bf0-ad6d-47b9-bf0e-a6962281c7d3",
        "colab": {
          "base_uri": "https://localhost:8080/"
        }
      },
      "execution_count": 24,
      "outputs": [
        {
          "output_type": "stream",
          "name": "stdout",
          "text": [
            "<class 'pandas.core.frame.DataFrame'>\n",
            "Index: 114401 entries, 52349 to 51085\n",
            "Data columns (total 2 columns):\n",
            " #   Column     Non-Null Count   Dtype \n",
            "---  ------     --------------   ----- \n",
            " 0   statement  114401 non-null  object\n",
            " 1   status     114401 non-null  object\n",
            "dtypes: object(2)\n",
            "memory usage: 2.6+ MB\n"
          ]
        }
      ]
    },
    {
      "cell_type": "code",
      "source": [
        "df.isna().sum()"
      ],
      "metadata": {
        "id": "LriqksJaDio5",
        "outputId": "e93939d6-db86-47c8-e87d-33393bd192b9",
        "colab": {
          "base_uri": "https://localhost:8080/",
          "height": 147
        }
      },
      "execution_count": 25,
      "outputs": [
        {
          "output_type": "execute_result",
          "data": {
            "text/plain": [
              "statement    0\n",
              "status       0\n",
              "dtype: int64"
            ],
            "text/html": [
              "<div>\n",
              "<style scoped>\n",
              "    .dataframe tbody tr th:only-of-type {\n",
              "        vertical-align: middle;\n",
              "    }\n",
              "\n",
              "    .dataframe tbody tr th {\n",
              "        vertical-align: top;\n",
              "    }\n",
              "\n",
              "    .dataframe thead th {\n",
              "        text-align: right;\n",
              "    }\n",
              "</style>\n",
              "<table border=\"1\" class=\"dataframe\">\n",
              "  <thead>\n",
              "    <tr style=\"text-align: right;\">\n",
              "      <th></th>\n",
              "      <th>0</th>\n",
              "    </tr>\n",
              "  </thead>\n",
              "  <tbody>\n",
              "    <tr>\n",
              "      <th>statement</th>\n",
              "      <td>0</td>\n",
              "    </tr>\n",
              "    <tr>\n",
              "      <th>status</th>\n",
              "      <td>0</td>\n",
              "    </tr>\n",
              "  </tbody>\n",
              "</table>\n",
              "</div><br><label><b>dtype:</b> int64</label>"
            ]
          },
          "metadata": {},
          "execution_count": 25
        }
      ]
    },
    {
      "cell_type": "code",
      "source": [
        "df.duplicated().sum()"
      ],
      "metadata": {
        "id": "C80XuBJyDio5",
        "outputId": "59e7e5be-9a50-46b8-a5d5-6e8fe2ef7dc3",
        "colab": {
          "base_uri": "https://localhost:8080/"
        }
      },
      "execution_count": 26,
      "outputs": [
        {
          "output_type": "execute_result",
          "data": {
            "text/plain": [
              "70887"
            ]
          },
          "metadata": {},
          "execution_count": 26
        }
      ]
    },
    {
      "cell_type": "code",
      "source": [
        "pt=PorterStemmer()\n",
        "def preprocessing(x):\n",
        "    l=[]\n",
        "\n",
        "    text=r.sub('[^a-zA-Z0-9\\s]','',x.lower())\n",
        "    for i in text.split():\n",
        "        l.append(pt.stem(i.lower()))\n",
        "\n",
        "\n",
        "    return \" \".join(l)\n"
      ],
      "metadata": {
        "id": "yMwYKtZCDio5"
      },
      "execution_count": 27,
      "outputs": []
    },
    {
      "cell_type": "code",
      "source": [
        "df['statement']=df['statement'].apply(preprocessing)"
      ],
      "metadata": {
        "id": "C9n_LLTKDio5"
      },
      "execution_count": 28,
      "outputs": []
    },
    {
      "cell_type": "markdown",
      "source": [
        "# 🔄 **Data Splitting and Vectorization** 🛠️\n",
        "\n",
        "### 📝 **Data Splitting**\n",
        "\n",
        "- **Features and Labels** 🎯: The dataset is split into features (`x`) and labels (`y`).\n",
        "  - **Features (`x`)**: Text statements\n",
        "  - **Labels (`y`)**: Mental health statuses\n",
        "- **Train-Test Split** 📚: The data is split into training and testing sets using `train_test_split()`.\n",
        "  - **Training Set** 📘:\n",
        "    - **`x_train`**: Features for training\n",
        "    - **`y_train`**: Labels for training\n",
        "  - **Testing Set** 📗:\n",
        "    - **`x_test`**: Features for testing\n",
        "    - **`y_test`**: Labels for testing\n",
        "  - **Split Details**:\n",
        "    - **Random State**: 42\n",
        "    - **Test Size**: 20%\n",
        "  - **Output Shapes**:\n",
        "    - **`x_train`**: (91,520,)\n",
        "    - **`y_train`**: (91,520,)\n",
        "    - **`x_test`**: (22,881,)\n",
        "    - **`y_test`**: (22,881,)\n",
        "\n",
        "### ✂️ **Text Vectorization**\n",
        "\n",
        "- **TF-IDF Vectorizer** 🔠: The `TfidfVectorizer` is used to convert the text data into numerical vectors.\n",
        "  - **Fit and Transform on Training Data** 🔧:\n",
        "    - The vectorizer is fitted to the training data (`x_train`) and transformed to produce `x_train_tfidf`.\n",
        "  - **Transform on Testing Data** 🧪:\n",
        "    - The vectorizer is used to transform the testing data (`x_test`) to produce `x_test_tfidf`.\n",
        "  - **Output Shapes**:\n",
        "    - **`x_train_tfidf`**: (91,520, 50,369)\n",
        "    - **`x_test_tfidf`**: (22,881, 50,369)\n",
        "\n",
        "By performing these steps, you have successfully split your data into training and testing sets and vectorized the text data using TF-IDF, preparing it for further modeling and analysis. 📈📉\n"
      ],
      "metadata": {
        "id": "LnBOcNZrDio5"
      }
    },
    {
      "cell_type": "code",
      "source": [
        "x=df['statement']\n",
        "y=df['status']"
      ],
      "metadata": {
        "id": "Uk57ccDuDio5"
      },
      "execution_count": 29,
      "outputs": []
    },
    {
      "cell_type": "code",
      "source": [
        "x_train,x_test,y_train,y_test=train_test_split(x,y,random_state=42,test_size=0.2)"
      ],
      "metadata": {
        "id": "Gt_goTFODio5"
      },
      "execution_count": 30,
      "outputs": []
    },
    {
      "cell_type": "code",
      "source": [
        "print(x_train.shape,y_train.shape,x_test.shape,y_test.shape)"
      ],
      "metadata": {
        "id": "t1tODmeRDio6",
        "outputId": "5499a3b6-c5ad-4f6a-cf3a-04fa9da35d19",
        "colab": {
          "base_uri": "https://localhost:8080/"
        }
      },
      "execution_count": 31,
      "outputs": [
        {
          "output_type": "stream",
          "name": "stdout",
          "text": [
            "(91520,) (91520,) (22881,) (22881,)\n"
          ]
        }
      ]
    },
    {
      "cell_type": "code",
      "source": [
        "vec=TfidfVectorizer()\n",
        "x_train_tfidf=vec.fit_transform(x_train)\n",
        "x_test_tfidf=vec.transform(x_test)"
      ],
      "metadata": {
        "id": "IeCsyYa-Dio6"
      },
      "execution_count": 32,
      "outputs": []
    },
    {
      "cell_type": "code",
      "source": [
        "print(x_train_tfidf.shape,x_test_tfidf.shape)"
      ],
      "metadata": {
        "id": "D0Hr500JDio6",
        "outputId": "584e8b73-2a5d-46ea-e9c2-ee080f586fc0",
        "colab": {
          "base_uri": "https://localhost:8080/"
        }
      },
      "execution_count": 33,
      "outputs": [
        {
          "output_type": "stream",
          "name": "stdout",
          "text": [
            "(91520, 50369) (22881, 50369)\n"
          ]
        }
      ]
    },
    {
      "cell_type": "code",
      "source": [
        "print(x_train_tfidf)"
      ],
      "metadata": {
        "id": "FeRXGm72Dio6",
        "outputId": "8017f78a-4409-4cf4-a657-d7e784335cc8",
        "colab": {
          "base_uri": "https://localhost:8080/"
        }
      },
      "execution_count": 34,
      "outputs": [
        {
          "output_type": "stream",
          "name": "stdout",
          "text": [
            "  (0, 31510)\t0.07170344561866757\n",
            "  (0, 4227)\t0.08290129197608126\n",
            "  (0, 17448)\t0.035898162867494234\n",
            "  (0, 46900)\t0.048634728838920074\n",
            "  (0, 27647)\t0.05361330354667299\n",
            "  (0, 22715)\t0.07384384624566892\n",
            "  (0, 43556)\t0.07060302963035084\n",
            "  (0, 26052)\t0.08971659614139058\n",
            "  (0, 5303)\t0.046967150934569706\n",
            "  (0, 26511)\t0.04008505084561305\n",
            "  (0, 8539)\t0.06297080063149249\n",
            "  (0, 8193)\t0.03511418747804572\n",
            "  (0, 41172)\t0.09080175486138084\n",
            "  (0, 22773)\t0.04366126439091646\n",
            "  (0, 49135)\t0.09869930693249233\n",
            "  (0, 20444)\t0.09411352567457457\n",
            "  (0, 24847)\t0.0383920890025438\n",
            "  (0, 22541)\t0.08756907292895413\n",
            "  (0, 44466)\t0.06413214224837019\n",
            "  (0, 21339)\t0.096094383503912\n",
            "  (0, 4585)\t0.06430393515302489\n",
            "  (0, 32556)\t0.044078944154192286\n",
            "  (0, 4744)\t0.125344006272234\n",
            "  (0, 12816)\t0.07691410536658708\n",
            "  (0, 48959)\t0.03864187579410338\n",
            "  :\t:\n",
            "  (91518, 11743)\t0.03503842440526172\n",
            "  (91518, 22959)\t0.09037190135217435\n",
            "  (91518, 48626)\t0.03176784472389911\n",
            "  (91518, 4019)\t0.14646966418705085\n",
            "  (91518, 47847)\t0.028959211519516175\n",
            "  (91518, 43897)\t0.17187163277399523\n",
            "  (91518, 44973)\t0.08794485464102268\n",
            "  (91518, 23941)\t0.03969043791837811\n",
            "  (91518, 30248)\t0.1017990159715823\n",
            "  (91519, 13122)\t0.4503972156069899\n",
            "  (91519, 37487)\t0.31781308275065795\n",
            "  (91519, 40633)\t0.2702663929477113\n",
            "  (91519, 35179)\t0.44671290653191276\n",
            "  (91519, 30286)\t0.14547545605165232\n",
            "  (91519, 44215)\t0.1493812809483025\n",
            "  (91519, 4910)\t0.1430787861436409\n",
            "  (91519, 6711)\t0.19022698558221432\n",
            "  (91519, 32667)\t0.16505287889710946\n",
            "  (91519, 33886)\t0.15002743844827512\n",
            "  (91519, 49087)\t0.2349354817917148\n",
            "  (91519, 31510)\t0.19858778752337422\n",
            "  (91519, 27647)\t0.14848585366141726\n",
            "  (91519, 22773)\t0.36276892223465945\n",
            "  (91519, 21588)\t0.14048942560737107\n",
            "  (91519, 44973)\t0.07507352812781783\n"
          ]
        }
      ]
    },
    {
      "cell_type": "code",
      "source": [
        "print(x_test_tfidf)"
      ],
      "metadata": {
        "id": "iaeHgid3Dio6",
        "outputId": "82ddaa15-9576-493c-9aa5-161636721655",
        "colab": {
          "base_uri": "https://localhost:8080/"
        }
      },
      "execution_count": 35,
      "outputs": [
        {
          "output_type": "stream",
          "name": "stdout",
          "text": [
            "  (0, 48959)\t0.12880873585734623\n",
            "  (0, 48664)\t0.07552996925007821\n",
            "  (0, 48626)\t0.21759428728783917\n",
            "  (0, 48573)\t0.051862221108590664\n",
            "  (0, 48400)\t0.10290032412818098\n",
            "  (0, 47985)\t0.05153382758758712\n",
            "  (0, 44973)\t0.12047589713789812\n",
            "  (0, 44180)\t0.30804941491110144\n",
            "  (0, 43939)\t0.0672329028361159\n",
            "  (0, 41340)\t0.1141519497574696\n",
            "  (0, 41058)\t0.08653026948007335\n",
            "  (0, 40805)\t0.08592869563534523\n",
            "  (0, 40187)\t0.3101401498917973\n",
            "  (0, 37140)\t0.09243525958962637\n",
            "  (0, 36725)\t0.058533406511315854\n",
            "  (0, 36251)\t0.1376745309015378\n",
            "  (0, 34034)\t0.07504815981457842\n",
            "  (0, 33886)\t0.12037991748291979\n",
            "  (0, 32667)\t0.06621806033435221\n",
            "  (0, 31552)\t0.10142574887947196\n",
            "  (0, 31418)\t0.17528894373977602\n",
            "  (0, 27025)\t0.07553217131516352\n",
            "  (0, 26511)\t0.13361941210392192\n",
            "  (0, 25438)\t0.10262497189683706\n",
            "  (0, 24847)\t0.04265869905565866\n",
            "  :\t:\n",
            "  (22880, 35397)\t0.23047665453046215\n",
            "  (22880, 34290)\t0.16733699968816826\n",
            "  (22880, 32277)\t0.07527145796129509\n",
            "  (22880, 28577)\t0.13812625570493567\n",
            "  (22880, 25438)\t0.08382415962379718\n",
            "  (22880, 23941)\t0.05551390708400754\n",
            "  (22880, 23832)\t0.06208709554503649\n",
            "  (22880, 20767)\t0.12135269457249614\n",
            "  (22880, 20386)\t0.45644875776941307\n",
            "  (22880, 17906)\t0.09565237415850733\n",
            "  (22880, 17448)\t0.06516047466176327\n",
            "  (22880, 12601)\t0.2193659981475026\n",
            "  (22880, 9433)\t0.2209436767006385\n",
            "  (22880, 8458)\t0.0898626129702954\n",
            "  (22880, 8193)\t0.06373744338609143\n",
            "  (22880, 8132)\t0.3657942214378238\n",
            "  (22880, 7393)\t0.39321600729533285\n",
            "  (22880, 7381)\t0.20725901340832079\n",
            "  (22880, 6711)\t0.12467277606058143\n",
            "  (22880, 6668)\t0.15062105504545978\n",
            "  (22880, 6336)\t0.15922576589776677\n",
            "  (22880, 4560)\t0.10702511702576968\n",
            "  (22880, 4019)\t0.0512157572122726\n",
            "  (22880, 3719)\t0.16157288584800028\n",
            "  (22880, 2451)\t0.1800777223611489\n"
          ]
        }
      ]
    },
    {
      "cell_type": "markdown",
      "source": [
        "# 🔄 **Model Training and Evaluation** 🛠️\n",
        "\n",
        "### 🌲 **Random Forest Classifier** 🌳\n",
        "- **Training** 📚: The Random Forest Classifier (`rf`) is trained on the `x_train_tfidf` and `y_train` datasets.\n",
        "- **Predictions** 🔮:\n",
        "  - **Test Set**: Predictions are made on the test data (`x_test_tfidf`) resulting in `ypred`.\n",
        "  - **Train Set**: Predictions are made on the train data (`x_train_tfidf`) resulting in `ytr_pred`.\n",
        "- **Evaluation Metrics** 📏:\n",
        "  - **Accuracy**:\n",
        "    - **Test Accuracy**: `95.38%` 📈\n",
        "    - **Train Accuracy**: `99.98%` 📈\n",
        "  - **Precision**:\n",
        "    - **Test Precision**: `95.36%` 🎯\n",
        "    - **Train Precision**: `99.98%` 🎯\n",
        "\n",
        "### 🚀 **AdaBoost Classifier** 🚀\n",
        "- **Training** 📚: The AdaBoost Classifier (`adb`) is trained on the `x_train_tfidf` and `y_train` datasets.\n",
        "- **Predictions** 🔮:\n",
        "  - **Test Set**: Predictions are made on the test data (`x_test_tfidf`) resulting in `ypred`.\n",
        "  - **Train Set**: Predictions are made on the train data (`x_train_tfidf`) resulting in `ytr_pred`.\n",
        "- **Evaluation Metrics** 📏:\n",
        "  - **Accuracy**:\n",
        "    - **Test Accuracy**: `65.98%` 📉\n",
        "    - **Train Accuracy**: `66.39%` 📉\n",
        "  - **Precision**:\n",
        "    - **Test Precision**: `66.66%` 🎯\n",
        "    - **Train Precision**: `67.00%` 🎯\n",
        "\n",
        "### 🌳 **Extra Trees Classifier** 🌳\n",
        "- **Training** 📚: The Extra Trees Classifier (`ext`) is trained on the `x_train_tfidf` and `y_train` datasets.\n",
        "- **Predictions** 🔮:\n",
        "  - **Test Set**: Predictions are made on the test data (`x_test_tfidf`) resulting in `ypred`.\n",
        "  - **Train Set**: Predictions are made on the train data (`x_train_tfidf`) resulting in `ytr_pred`.\n",
        "- **Evaluation Metrics** 📏:\n",
        "  - **Accuracy**:\n",
        "    - **Test Accuracy**: `95.25%` 📈\n",
        "    - **Train Accuracy**: `99.98%` 📈\n",
        "  - **Precision**:\n",
        "    - **Test Precision**: `95.27%` 🎯\n",
        "    - **Train Precision**: `99.98%` 🎯\n",
        "\n",
        "### 🔄 **Logistic Regression** 🔄\n",
        "- **Training** 📚: The Logistic Regression Classifier (`lr`) is trained on the `x_train_tfidf` and `y_train` datasets.\n",
        "- **Predictions** 🔮:\n",
        "  - **Test Set**: Predictions are made on the test data (`x_test_tfidf`) resulting in `ypred`.\n",
        "  - **Train Set**: Predictions are made on the train data (`x_train_tfidf`) resulting in `ytr_pred`.\n",
        "- **Evaluation Metrics** 📏:\n",
        "  - **Accuracy**:\n",
        "    - **Test Accuracy**: `87.50%` 📈\n",
        "    - **Train Accuracy**: `90.49%` 📈\n",
        "  - **Precision**:\n",
        "    - **Test Precision**: `87.25%` 🎯\n",
        "    - **Train Precision**: `90.36%` 🎯\n",
        "\n",
        "### 📝 **Summary of Model Performance** 📊\n",
        "\n",
        "| Model                   | Test Accuracy 📈 | Train Accuracy 📈 | Test Precision 🎯 | Train Precision 🎯 |\n",
        "|-------------------------|------------------|-------------------|-------------------|--------------------|\n",
        "| 🌲 **Random Forest**    | 95.38%           | 99.98%            | 95.36%            | 99.98%             |\n",
        "| 🚀 **AdaBoost**         | 65.98%           | 66.39%            | 66.66%            | 67.00%             |\n",
        "| 🌳 **Extra Trees**      | 95.25%           | 99.98%            | 95.27%            | 99.98%             |\n",
        "| 🔄 **Logistic Regression** | 87.50%        | 90.49%            | 87.25%            | 90.36%             |\n",
        "\n",
        "### 💾 **Model and Vectorizer Saving** 🗂️\n",
        "- **Vectorizer Saving** 🗃️: The fitted `TfidfVectorizer` (`vec`) is saved as `vecctorizer.pkl`.\n",
        "- **Model Saving** 🗃️: The trained Random Forest Classifier (`rf`) is saved as `model.pkl`.\n",
        "\n",
        "By performing these steps, you have successfully trained multiple classifiers, evaluated their performance using accuracy and precision metrics, and saved the best-performing model and the vectorizer for future use. 📈📉\n"
      ],
      "metadata": {
        "id": "y6xGf9agDio6"
      }
    },
    {
      "cell_type": "code",
      "source": [
        "rf=RandomForestClassifier()\n",
        "rf.fit(x_train_tfidf,y_train)"
      ],
      "metadata": {
        "id": "mRO3ALV5Dio-",
        "outputId": "53ec468e-3e8b-462b-f653-fc8bf2eabb4f",
        "colab": {
          "base_uri": "https://localhost:8080/",
          "height": 74
        }
      },
      "execution_count": 36,
      "outputs": [
        {
          "output_type": "execute_result",
          "data": {
            "text/plain": [
              "RandomForestClassifier()"
            ],
            "text/html": [
              "<style>#sk-container-id-1 {color: black;}#sk-container-id-1 pre{padding: 0;}#sk-container-id-1 div.sk-toggleable {background-color: white;}#sk-container-id-1 label.sk-toggleable__label {cursor: pointer;display: block;width: 100%;margin-bottom: 0;padding: 0.3em;box-sizing: border-box;text-align: center;}#sk-container-id-1 label.sk-toggleable__label-arrow:before {content: \"▸\";float: left;margin-right: 0.25em;color: #696969;}#sk-container-id-1 label.sk-toggleable__label-arrow:hover:before {color: black;}#sk-container-id-1 div.sk-estimator:hover label.sk-toggleable__label-arrow:before {color: black;}#sk-container-id-1 div.sk-toggleable__content {max-height: 0;max-width: 0;overflow: hidden;text-align: left;background-color: #f0f8ff;}#sk-container-id-1 div.sk-toggleable__content pre {margin: 0.2em;color: black;border-radius: 0.25em;background-color: #f0f8ff;}#sk-container-id-1 input.sk-toggleable__control:checked~div.sk-toggleable__content {max-height: 200px;max-width: 100%;overflow: auto;}#sk-container-id-1 input.sk-toggleable__control:checked~label.sk-toggleable__label-arrow:before {content: \"▾\";}#sk-container-id-1 div.sk-estimator input.sk-toggleable__control:checked~label.sk-toggleable__label {background-color: #d4ebff;}#sk-container-id-1 div.sk-label input.sk-toggleable__control:checked~label.sk-toggleable__label {background-color: #d4ebff;}#sk-container-id-1 input.sk-hidden--visually {border: 0;clip: rect(1px 1px 1px 1px);clip: rect(1px, 1px, 1px, 1px);height: 1px;margin: -1px;overflow: hidden;padding: 0;position: absolute;width: 1px;}#sk-container-id-1 div.sk-estimator {font-family: monospace;background-color: #f0f8ff;border: 1px dotted black;border-radius: 0.25em;box-sizing: border-box;margin-bottom: 0.5em;}#sk-container-id-1 div.sk-estimator:hover {background-color: #d4ebff;}#sk-container-id-1 div.sk-parallel-item::after {content: \"\";width: 100%;border-bottom: 1px solid gray;flex-grow: 1;}#sk-container-id-1 div.sk-label:hover label.sk-toggleable__label {background-color: #d4ebff;}#sk-container-id-1 div.sk-serial::before {content: \"\";position: absolute;border-left: 1px solid gray;box-sizing: border-box;top: 0;bottom: 0;left: 50%;z-index: 0;}#sk-container-id-1 div.sk-serial {display: flex;flex-direction: column;align-items: center;background-color: white;padding-right: 0.2em;padding-left: 0.2em;position: relative;}#sk-container-id-1 div.sk-item {position: relative;z-index: 1;}#sk-container-id-1 div.sk-parallel {display: flex;align-items: stretch;justify-content: center;background-color: white;position: relative;}#sk-container-id-1 div.sk-item::before, #sk-container-id-1 div.sk-parallel-item::before {content: \"\";position: absolute;border-left: 1px solid gray;box-sizing: border-box;top: 0;bottom: 0;left: 50%;z-index: -1;}#sk-container-id-1 div.sk-parallel-item {display: flex;flex-direction: column;z-index: 1;position: relative;background-color: white;}#sk-container-id-1 div.sk-parallel-item:first-child::after {align-self: flex-end;width: 50%;}#sk-container-id-1 div.sk-parallel-item:last-child::after {align-self: flex-start;width: 50%;}#sk-container-id-1 div.sk-parallel-item:only-child::after {width: 0;}#sk-container-id-1 div.sk-dashed-wrapped {border: 1px dashed gray;margin: 0 0.4em 0.5em 0.4em;box-sizing: border-box;padding-bottom: 0.4em;background-color: white;}#sk-container-id-1 div.sk-label label {font-family: monospace;font-weight: bold;display: inline-block;line-height: 1.2em;}#sk-container-id-1 div.sk-label-container {text-align: center;}#sk-container-id-1 div.sk-container {/* jupyter's `normalize.less` sets `[hidden] { display: none; }` but bootstrap.min.css set `[hidden] { display: none !important; }` so we also need the `!important` here to be able to override the default hidden behavior on the sphinx rendered scikit-learn.org. See: https://github.com/scikit-learn/scikit-learn/issues/21755 */display: inline-block !important;position: relative;}#sk-container-id-1 div.sk-text-repr-fallback {display: none;}</style><div id=\"sk-container-id-1\" class=\"sk-top-container\"><div class=\"sk-text-repr-fallback\"><pre>RandomForestClassifier()</pre><b>In a Jupyter environment, please rerun this cell to show the HTML representation or trust the notebook. <br />On GitHub, the HTML representation is unable to render, please try loading this page with nbviewer.org.</b></div><div class=\"sk-container\" hidden><div class=\"sk-item\"><div class=\"sk-estimator sk-toggleable\"><input class=\"sk-toggleable__control sk-hidden--visually\" id=\"sk-estimator-id-1\" type=\"checkbox\" checked><label for=\"sk-estimator-id-1\" class=\"sk-toggleable__label sk-toggleable__label-arrow\">RandomForestClassifier</label><div class=\"sk-toggleable__content\"><pre>RandomForestClassifier()</pre></div></div></div></div></div>"
            ]
          },
          "metadata": {},
          "execution_count": 36
        }
      ]
    },
    {
      "cell_type": "code",
      "source": [
        "ypred=rf.predict(x_test_tfidf)\n",
        "ytr_pred=rf.predict(x_train_tfidf)\n",
        "print(\"Test accuracy: \",accuracy_score(y_test,ypred))\n",
        "print(\"Train accuracy: \",accuracy_score(y_train,ytr_pred))\n",
        "print(\"Precision Test accuracy: \",precision_score(y_test,ypred,average='weighted'))\n",
        "print(\"Precision Train accuracy: \",precision_score(y_train,ytr_pred,average='weighted'))\n"
      ],
      "metadata": {
        "id": "tycjAWjeDio-",
        "outputId": "c8e7a68e-660e-4e7b-f9b9-9f0124ecfdb8",
        "colab": {
          "base_uri": "https://localhost:8080/"
        }
      },
      "execution_count": 37,
      "outputs": [
        {
          "output_type": "stream",
          "name": "stdout",
          "text": [
            "Test accuracy:  0.952974083300555\n",
            "Train accuracy:  0.9997705419580419\n",
            "Precision Test accuracy:  0.952713094272235\n",
            "Precision Train accuracy:  0.999770714848328\n"
          ]
        }
      ]
    },
    {
      "cell_type": "code",
      "source": [
        "adb=AdaBoostClassifier()\n",
        "adb.fit(x_train_tfidf,y_train)"
      ],
      "metadata": {
        "id": "GnfmHqNDDio-",
        "outputId": "d22cbb7d-8205-429d-9f0e-8e1f6ee2c7f8",
        "colab": {
          "base_uri": "https://localhost:8080/",
          "height": 74
        }
      },
      "execution_count": 38,
      "outputs": [
        {
          "output_type": "execute_result",
          "data": {
            "text/plain": [
              "AdaBoostClassifier()"
            ],
            "text/html": [
              "<style>#sk-container-id-2 {color: black;}#sk-container-id-2 pre{padding: 0;}#sk-container-id-2 div.sk-toggleable {background-color: white;}#sk-container-id-2 label.sk-toggleable__label {cursor: pointer;display: block;width: 100%;margin-bottom: 0;padding: 0.3em;box-sizing: border-box;text-align: center;}#sk-container-id-2 label.sk-toggleable__label-arrow:before {content: \"▸\";float: left;margin-right: 0.25em;color: #696969;}#sk-container-id-2 label.sk-toggleable__label-arrow:hover:before {color: black;}#sk-container-id-2 div.sk-estimator:hover label.sk-toggleable__label-arrow:before {color: black;}#sk-container-id-2 div.sk-toggleable__content {max-height: 0;max-width: 0;overflow: hidden;text-align: left;background-color: #f0f8ff;}#sk-container-id-2 div.sk-toggleable__content pre {margin: 0.2em;color: black;border-radius: 0.25em;background-color: #f0f8ff;}#sk-container-id-2 input.sk-toggleable__control:checked~div.sk-toggleable__content {max-height: 200px;max-width: 100%;overflow: auto;}#sk-container-id-2 input.sk-toggleable__control:checked~label.sk-toggleable__label-arrow:before {content: \"▾\";}#sk-container-id-2 div.sk-estimator input.sk-toggleable__control:checked~label.sk-toggleable__label {background-color: #d4ebff;}#sk-container-id-2 div.sk-label input.sk-toggleable__control:checked~label.sk-toggleable__label {background-color: #d4ebff;}#sk-container-id-2 input.sk-hidden--visually {border: 0;clip: rect(1px 1px 1px 1px);clip: rect(1px, 1px, 1px, 1px);height: 1px;margin: -1px;overflow: hidden;padding: 0;position: absolute;width: 1px;}#sk-container-id-2 div.sk-estimator {font-family: monospace;background-color: #f0f8ff;border: 1px dotted black;border-radius: 0.25em;box-sizing: border-box;margin-bottom: 0.5em;}#sk-container-id-2 div.sk-estimator:hover {background-color: #d4ebff;}#sk-container-id-2 div.sk-parallel-item::after {content: \"\";width: 100%;border-bottom: 1px solid gray;flex-grow: 1;}#sk-container-id-2 div.sk-label:hover label.sk-toggleable__label {background-color: #d4ebff;}#sk-container-id-2 div.sk-serial::before {content: \"\";position: absolute;border-left: 1px solid gray;box-sizing: border-box;top: 0;bottom: 0;left: 50%;z-index: 0;}#sk-container-id-2 div.sk-serial {display: flex;flex-direction: column;align-items: center;background-color: white;padding-right: 0.2em;padding-left: 0.2em;position: relative;}#sk-container-id-2 div.sk-item {position: relative;z-index: 1;}#sk-container-id-2 div.sk-parallel {display: flex;align-items: stretch;justify-content: center;background-color: white;position: relative;}#sk-container-id-2 div.sk-item::before, #sk-container-id-2 div.sk-parallel-item::before {content: \"\";position: absolute;border-left: 1px solid gray;box-sizing: border-box;top: 0;bottom: 0;left: 50%;z-index: -1;}#sk-container-id-2 div.sk-parallel-item {display: flex;flex-direction: column;z-index: 1;position: relative;background-color: white;}#sk-container-id-2 div.sk-parallel-item:first-child::after {align-self: flex-end;width: 50%;}#sk-container-id-2 div.sk-parallel-item:last-child::after {align-self: flex-start;width: 50%;}#sk-container-id-2 div.sk-parallel-item:only-child::after {width: 0;}#sk-container-id-2 div.sk-dashed-wrapped {border: 1px dashed gray;margin: 0 0.4em 0.5em 0.4em;box-sizing: border-box;padding-bottom: 0.4em;background-color: white;}#sk-container-id-2 div.sk-label label {font-family: monospace;font-weight: bold;display: inline-block;line-height: 1.2em;}#sk-container-id-2 div.sk-label-container {text-align: center;}#sk-container-id-2 div.sk-container {/* jupyter's `normalize.less` sets `[hidden] { display: none; }` but bootstrap.min.css set `[hidden] { display: none !important; }` so we also need the `!important` here to be able to override the default hidden behavior on the sphinx rendered scikit-learn.org. See: https://github.com/scikit-learn/scikit-learn/issues/21755 */display: inline-block !important;position: relative;}#sk-container-id-2 div.sk-text-repr-fallback {display: none;}</style><div id=\"sk-container-id-2\" class=\"sk-top-container\"><div class=\"sk-text-repr-fallback\"><pre>AdaBoostClassifier()</pre><b>In a Jupyter environment, please rerun this cell to show the HTML representation or trust the notebook. <br />On GitHub, the HTML representation is unable to render, please try loading this page with nbviewer.org.</b></div><div class=\"sk-container\" hidden><div class=\"sk-item\"><div class=\"sk-estimator sk-toggleable\"><input class=\"sk-toggleable__control sk-hidden--visually\" id=\"sk-estimator-id-2\" type=\"checkbox\" checked><label for=\"sk-estimator-id-2\" class=\"sk-toggleable__label sk-toggleable__label-arrow\">AdaBoostClassifier</label><div class=\"sk-toggleable__content\"><pre>AdaBoostClassifier()</pre></div></div></div></div></div>"
            ]
          },
          "metadata": {},
          "execution_count": 38
        }
      ]
    },
    {
      "cell_type": "code",
      "source": [
        "ypred=adb.predict(x_test_tfidf)\n",
        "ytr_pred=adb.predict(x_train_tfidf)\n",
        "print(\"Test accuracy: \",accuracy_score(y_test,ypred))\n",
        "print(\"Train accuracy: \",accuracy_score(y_train,ytr_pred))\n",
        "print(\"Precision Test accuracy: \",precision_score(y_test,ypred,average='weighted'))\n",
        "print(\"Precision Train accuracy: \",precision_score(y_train,ytr_pred,average='weighted'))"
      ],
      "metadata": {
        "id": "ELrIz1gCDio_",
        "outputId": "563bdf08-a3c8-4780-c7ec-67b5018200a5",
        "colab": {
          "base_uri": "https://localhost:8080/"
        }
      },
      "execution_count": 39,
      "outputs": [
        {
          "output_type": "stream",
          "name": "stdout",
          "text": [
            "Test accuracy:  0.6598050784493684\n",
            "Train accuracy:  0.6638658216783216\n",
            "Precision Test accuracy:  0.6665924232283339\n",
            "Precision Train accuracy:  0.6700542768027757\n"
          ]
        }
      ]
    },
    {
      "cell_type": "code",
      "source": [
        "ext=ExtraTreesClassifier()\n",
        "ext.fit(x_train_tfidf,y_train)"
      ],
      "metadata": {
        "id": "gQO8Lw49Dio_",
        "outputId": "4eb20fb9-b04e-4ff8-bdb9-a931826e962b",
        "colab": {
          "base_uri": "https://localhost:8080/",
          "height": 74
        }
      },
      "execution_count": 40,
      "outputs": [
        {
          "output_type": "execute_result",
          "data": {
            "text/plain": [
              "ExtraTreesClassifier()"
            ],
            "text/html": [
              "<style>#sk-container-id-3 {color: black;}#sk-container-id-3 pre{padding: 0;}#sk-container-id-3 div.sk-toggleable {background-color: white;}#sk-container-id-3 label.sk-toggleable__label {cursor: pointer;display: block;width: 100%;margin-bottom: 0;padding: 0.3em;box-sizing: border-box;text-align: center;}#sk-container-id-3 label.sk-toggleable__label-arrow:before {content: \"▸\";float: left;margin-right: 0.25em;color: #696969;}#sk-container-id-3 label.sk-toggleable__label-arrow:hover:before {color: black;}#sk-container-id-3 div.sk-estimator:hover label.sk-toggleable__label-arrow:before {color: black;}#sk-container-id-3 div.sk-toggleable__content {max-height: 0;max-width: 0;overflow: hidden;text-align: left;background-color: #f0f8ff;}#sk-container-id-3 div.sk-toggleable__content pre {margin: 0.2em;color: black;border-radius: 0.25em;background-color: #f0f8ff;}#sk-container-id-3 input.sk-toggleable__control:checked~div.sk-toggleable__content {max-height: 200px;max-width: 100%;overflow: auto;}#sk-container-id-3 input.sk-toggleable__control:checked~label.sk-toggleable__label-arrow:before {content: \"▾\";}#sk-container-id-3 div.sk-estimator input.sk-toggleable__control:checked~label.sk-toggleable__label {background-color: #d4ebff;}#sk-container-id-3 div.sk-label input.sk-toggleable__control:checked~label.sk-toggleable__label {background-color: #d4ebff;}#sk-container-id-3 input.sk-hidden--visually {border: 0;clip: rect(1px 1px 1px 1px);clip: rect(1px, 1px, 1px, 1px);height: 1px;margin: -1px;overflow: hidden;padding: 0;position: absolute;width: 1px;}#sk-container-id-3 div.sk-estimator {font-family: monospace;background-color: #f0f8ff;border: 1px dotted black;border-radius: 0.25em;box-sizing: border-box;margin-bottom: 0.5em;}#sk-container-id-3 div.sk-estimator:hover {background-color: #d4ebff;}#sk-container-id-3 div.sk-parallel-item::after {content: \"\";width: 100%;border-bottom: 1px solid gray;flex-grow: 1;}#sk-container-id-3 div.sk-label:hover label.sk-toggleable__label {background-color: #d4ebff;}#sk-container-id-3 div.sk-serial::before {content: \"\";position: absolute;border-left: 1px solid gray;box-sizing: border-box;top: 0;bottom: 0;left: 50%;z-index: 0;}#sk-container-id-3 div.sk-serial {display: flex;flex-direction: column;align-items: center;background-color: white;padding-right: 0.2em;padding-left: 0.2em;position: relative;}#sk-container-id-3 div.sk-item {position: relative;z-index: 1;}#sk-container-id-3 div.sk-parallel {display: flex;align-items: stretch;justify-content: center;background-color: white;position: relative;}#sk-container-id-3 div.sk-item::before, #sk-container-id-3 div.sk-parallel-item::before {content: \"\";position: absolute;border-left: 1px solid gray;box-sizing: border-box;top: 0;bottom: 0;left: 50%;z-index: -1;}#sk-container-id-3 div.sk-parallel-item {display: flex;flex-direction: column;z-index: 1;position: relative;background-color: white;}#sk-container-id-3 div.sk-parallel-item:first-child::after {align-self: flex-end;width: 50%;}#sk-container-id-3 div.sk-parallel-item:last-child::after {align-self: flex-start;width: 50%;}#sk-container-id-3 div.sk-parallel-item:only-child::after {width: 0;}#sk-container-id-3 div.sk-dashed-wrapped {border: 1px dashed gray;margin: 0 0.4em 0.5em 0.4em;box-sizing: border-box;padding-bottom: 0.4em;background-color: white;}#sk-container-id-3 div.sk-label label {font-family: monospace;font-weight: bold;display: inline-block;line-height: 1.2em;}#sk-container-id-3 div.sk-label-container {text-align: center;}#sk-container-id-3 div.sk-container {/* jupyter's `normalize.less` sets `[hidden] { display: none; }` but bootstrap.min.css set `[hidden] { display: none !important; }` so we also need the `!important` here to be able to override the default hidden behavior on the sphinx rendered scikit-learn.org. See: https://github.com/scikit-learn/scikit-learn/issues/21755 */display: inline-block !important;position: relative;}#sk-container-id-3 div.sk-text-repr-fallback {display: none;}</style><div id=\"sk-container-id-3\" class=\"sk-top-container\"><div class=\"sk-text-repr-fallback\"><pre>ExtraTreesClassifier()</pre><b>In a Jupyter environment, please rerun this cell to show the HTML representation or trust the notebook. <br />On GitHub, the HTML representation is unable to render, please try loading this page with nbviewer.org.</b></div><div class=\"sk-container\" hidden><div class=\"sk-item\"><div class=\"sk-estimator sk-toggleable\"><input class=\"sk-toggleable__control sk-hidden--visually\" id=\"sk-estimator-id-3\" type=\"checkbox\" checked><label for=\"sk-estimator-id-3\" class=\"sk-toggleable__label sk-toggleable__label-arrow\">ExtraTreesClassifier</label><div class=\"sk-toggleable__content\"><pre>ExtraTreesClassifier()</pre></div></div></div></div></div>"
            ]
          },
          "metadata": {},
          "execution_count": 40
        }
      ]
    },
    {
      "cell_type": "code",
      "source": [
        "ypred=ext.predict(x_test_tfidf)\n",
        "ytr_pred=ext.predict(x_train_tfidf)\n",
        "print(\"Test accuracy: \",accuracy_score(y_test,ypred))\n",
        "print(\"Train accuracy: \",accuracy_score(y_train,ytr_pred))\n",
        "print(\"Precision Test accuracy: \",precision_score(y_test,ypred,average='weighted'))\n",
        "print(\"Precision Train accuracy: \",precision_score(y_train,ytr_pred,average='weighted'))"
      ],
      "metadata": {
        "id": "PuUlcI3oDio_",
        "outputId": "15b267b2-ffb8-4edd-a6fc-6e60a9618813",
        "colab": {
          "base_uri": "https://localhost:8080/"
        }
      },
      "execution_count": 41,
      "outputs": [
        {
          "output_type": "stream",
          "name": "stdout",
          "text": [
            "Test accuracy:  0.9524059263144093\n",
            "Train accuracy:  0.9997705419580419\n",
            "Precision Test accuracy:  0.9525417717896111\n",
            "Precision Train accuracy:  0.999770714848328\n"
          ]
        }
      ]
    },
    {
      "cell_type": "code",
      "source": [
        "lr=LogisticRegression()\n",
        "lr.fit(x_train_tfidf,y_train)"
      ],
      "metadata": {
        "id": "8p35i14JDio_",
        "outputId": "0da5d685-b74e-448a-ccbc-e46f971e920b",
        "colab": {
          "base_uri": "https://localhost:8080/",
          "height": 233
        }
      },
      "execution_count": 42,
      "outputs": [
        {
          "output_type": "stream",
          "name": "stderr",
          "text": [
            "/usr/local/lib/python3.10/dist-packages/sklearn/linear_model/_logistic.py:460: ConvergenceWarning: lbfgs failed to converge (status=1):\n",
            "STOP: TOTAL NO. of ITERATIONS REACHED LIMIT.\n",
            "\n",
            "Increase the number of iterations (max_iter) or scale the data as shown in:\n",
            "    https://scikit-learn.org/stable/modules/preprocessing.html\n",
            "Please also refer to the documentation for alternative solver options:\n",
            "    https://scikit-learn.org/stable/modules/linear_model.html#logistic-regression\n",
            "  n_iter_i = _check_optimize_result(\n"
          ]
        },
        {
          "output_type": "execute_result",
          "data": {
            "text/plain": [
              "LogisticRegression()"
            ],
            "text/html": [
              "<style>#sk-container-id-4 {color: black;}#sk-container-id-4 pre{padding: 0;}#sk-container-id-4 div.sk-toggleable {background-color: white;}#sk-container-id-4 label.sk-toggleable__label {cursor: pointer;display: block;width: 100%;margin-bottom: 0;padding: 0.3em;box-sizing: border-box;text-align: center;}#sk-container-id-4 label.sk-toggleable__label-arrow:before {content: \"▸\";float: left;margin-right: 0.25em;color: #696969;}#sk-container-id-4 label.sk-toggleable__label-arrow:hover:before {color: black;}#sk-container-id-4 div.sk-estimator:hover label.sk-toggleable__label-arrow:before {color: black;}#sk-container-id-4 div.sk-toggleable__content {max-height: 0;max-width: 0;overflow: hidden;text-align: left;background-color: #f0f8ff;}#sk-container-id-4 div.sk-toggleable__content pre {margin: 0.2em;color: black;border-radius: 0.25em;background-color: #f0f8ff;}#sk-container-id-4 input.sk-toggleable__control:checked~div.sk-toggleable__content {max-height: 200px;max-width: 100%;overflow: auto;}#sk-container-id-4 input.sk-toggleable__control:checked~label.sk-toggleable__label-arrow:before {content: \"▾\";}#sk-container-id-4 div.sk-estimator input.sk-toggleable__control:checked~label.sk-toggleable__label {background-color: #d4ebff;}#sk-container-id-4 div.sk-label input.sk-toggleable__control:checked~label.sk-toggleable__label {background-color: #d4ebff;}#sk-container-id-4 input.sk-hidden--visually {border: 0;clip: rect(1px 1px 1px 1px);clip: rect(1px, 1px, 1px, 1px);height: 1px;margin: -1px;overflow: hidden;padding: 0;position: absolute;width: 1px;}#sk-container-id-4 div.sk-estimator {font-family: monospace;background-color: #f0f8ff;border: 1px dotted black;border-radius: 0.25em;box-sizing: border-box;margin-bottom: 0.5em;}#sk-container-id-4 div.sk-estimator:hover {background-color: #d4ebff;}#sk-container-id-4 div.sk-parallel-item::after {content: \"\";width: 100%;border-bottom: 1px solid gray;flex-grow: 1;}#sk-container-id-4 div.sk-label:hover label.sk-toggleable__label {background-color: #d4ebff;}#sk-container-id-4 div.sk-serial::before {content: \"\";position: absolute;border-left: 1px solid gray;box-sizing: border-box;top: 0;bottom: 0;left: 50%;z-index: 0;}#sk-container-id-4 div.sk-serial {display: flex;flex-direction: column;align-items: center;background-color: white;padding-right: 0.2em;padding-left: 0.2em;position: relative;}#sk-container-id-4 div.sk-item {position: relative;z-index: 1;}#sk-container-id-4 div.sk-parallel {display: flex;align-items: stretch;justify-content: center;background-color: white;position: relative;}#sk-container-id-4 div.sk-item::before, #sk-container-id-4 div.sk-parallel-item::before {content: \"\";position: absolute;border-left: 1px solid gray;box-sizing: border-box;top: 0;bottom: 0;left: 50%;z-index: -1;}#sk-container-id-4 div.sk-parallel-item {display: flex;flex-direction: column;z-index: 1;position: relative;background-color: white;}#sk-container-id-4 div.sk-parallel-item:first-child::after {align-self: flex-end;width: 50%;}#sk-container-id-4 div.sk-parallel-item:last-child::after {align-self: flex-start;width: 50%;}#sk-container-id-4 div.sk-parallel-item:only-child::after {width: 0;}#sk-container-id-4 div.sk-dashed-wrapped {border: 1px dashed gray;margin: 0 0.4em 0.5em 0.4em;box-sizing: border-box;padding-bottom: 0.4em;background-color: white;}#sk-container-id-4 div.sk-label label {font-family: monospace;font-weight: bold;display: inline-block;line-height: 1.2em;}#sk-container-id-4 div.sk-label-container {text-align: center;}#sk-container-id-4 div.sk-container {/* jupyter's `normalize.less` sets `[hidden] { display: none; }` but bootstrap.min.css set `[hidden] { display: none !important; }` so we also need the `!important` here to be able to override the default hidden behavior on the sphinx rendered scikit-learn.org. See: https://github.com/scikit-learn/scikit-learn/issues/21755 */display: inline-block !important;position: relative;}#sk-container-id-4 div.sk-text-repr-fallback {display: none;}</style><div id=\"sk-container-id-4\" class=\"sk-top-container\"><div class=\"sk-text-repr-fallback\"><pre>LogisticRegression()</pre><b>In a Jupyter environment, please rerun this cell to show the HTML representation or trust the notebook. <br />On GitHub, the HTML representation is unable to render, please try loading this page with nbviewer.org.</b></div><div class=\"sk-container\" hidden><div class=\"sk-item\"><div class=\"sk-estimator sk-toggleable\"><input class=\"sk-toggleable__control sk-hidden--visually\" id=\"sk-estimator-id-4\" type=\"checkbox\" checked><label for=\"sk-estimator-id-4\" class=\"sk-toggleable__label sk-toggleable__label-arrow\">LogisticRegression</label><div class=\"sk-toggleable__content\"><pre>LogisticRegression()</pre></div></div></div></div></div>"
            ]
          },
          "metadata": {},
          "execution_count": 42
        }
      ]
    },
    {
      "cell_type": "code",
      "source": [
        "ypred=lr.predict(x_test_tfidf)\n",
        "ytr_pred=lr.predict(x_train_tfidf)\n",
        "print(\"Test accuracy: \",accuracy_score(y_test,ypred))\n",
        "print(\"Train accuracy: \",accuracy_score(y_train,ytr_pred))\n",
        "print(\"Precision Test accuracy: \",precision_score(y_test,ypred,average='weighted'))\n",
        "print(\"Precision Train accuracy: \",precision_score(y_train,ytr_pred,average='weighted'))"
      ],
      "metadata": {
        "id": "g4uOm9lRDio_",
        "outputId": "695b4dbd-e596-4f59-dae7-b11a42010040",
        "colab": {
          "base_uri": "https://localhost:8080/"
        }
      },
      "execution_count": 65,
      "outputs": [
        {
          "output_type": "stream",
          "name": "stdout",
          "text": [
            "Test accuracy:  0.8749617586643941\n",
            "Train accuracy:  0.9048841783216783\n",
            "Precision Test accuracy:  0.8725104565039661\n",
            "Precision Train accuracy:  0.9036423537408258\n"
          ]
        }
      ]
    },
    {
      "cell_type": "code",
      "source": [
        "j.dump(vec,'vecctorizer.pkl')\n",
        "j.dump(rf,'model.pkl')"
      ],
      "metadata": {
        "id": "E1ZhdPD1Dio_",
        "outputId": "2eed6725-adee-4fa7-fd23-d186d49b253e",
        "colab": {
          "base_uri": "https://localhost:8080/"
        }
      },
      "execution_count": 66,
      "outputs": [
        {
          "output_type": "execute_result",
          "data": {
            "text/plain": [
              "['model.pkl']"
            ]
          },
          "metadata": {},
          "execution_count": 66
        }
      ]
    },
    {
      "cell_type": "markdown",
      "source": [
        "# 🔍 **Model Inference** 🧩\n",
        "\n",
        "### 📥 **Loading the Vectorizer and Model** 💾\n",
        "- **Vectorizer** 🧰: The previously saved `TfidfVectorizer` (`vecctorizer.pkl`) is loaded.\n",
        "- **Model** 🧠: The trained Random Forest Classifier model (`model.pkl`) is loaded.\n",
        "\n",
        "### 🔧 **Text Preprocessing** 🛠️\n",
        "- **Text Cleaning** 🧽: A preprocessing function is defined to clean the input text by:\n",
        "  - Removing non-alphanumeric characters.\n",
        "  - Converting text to lowercase.\n",
        "  - Applying stemming to reduce words to their root form using `PorterStemmer`.\n",
        "  \n",
        "### 🔮 **Prediction Function** 🔄\n",
        "- **Text Vectorization** 📏: The input text is transformed into a TF-IDF vector using the loaded vectorizer.\n",
        "- **Prediction** 🔮: The transformed text vector is passed to the loaded model to predict the sentiment status.\n",
        "\n",
        "### 📝 **Example Predictions** 📊\n",
        "- **Example 1**:\n",
        "  - **Input Text**: \"trouble sleeping, confused mind, restless heart. All out of tune\"\n",
        "  - **Preprocessed Text**: \"troubl sleep confus mind rest heart all out of tune\"\n",
        "  - **Predicted Status**: `Anxiety` 😟\n",
        "  \n",
        "- **Example 2**:\n",
        "  - **Input Text**: \"It shows I have posted but I cannot find my post back here Am I not allowed to post here?\"\n",
        "  - **Preprocessed Text**: \"it show i have post but i cannot find my post back here am i not allow to post here\"\n",
        "  - **Predicted Status**: `Suicidal` 💔\n",
        "\n",
        "By performing these steps, the model can accurately predict the mental health status based on the provided text input. The preprocessing ensures that the text is in a suitable format for the model to analyze and make predictions. 🧠🔍\n"
      ],
      "metadata": {
        "id": "Fdf1mPYXDio_"
      }
    },
    {
      "cell_type": "code",
      "source": [
        "vector=j.load('vecctorizer.pkl')\n",
        "model=j.load('model.pkl')"
      ],
      "metadata": {
        "id": "_hrnJ9ZsDio_"
      },
      "execution_count": 67,
      "outputs": []
    },
    {
      "cell_type": "code",
      "source": [
        "pt=PorterStemmer()\n",
        "def preprocessing(x):\n",
        "    l=[]\n",
        "\n",
        "    text=r.sub('[^a-zA-Z0-9\\s]','',x.lower())\n",
        "    for i in text.split():\n",
        "        l.append(pt.stem(i.lower()))\n",
        "\n",
        "\n",
        "\n",
        "\n",
        "    return \" \".join(l)"
      ],
      "metadata": {
        "id": "PRjsuLYEDio_"
      },
      "execution_count": 68,
      "outputs": []
    },
    {
      "cell_type": "code",
      "source": [
        "text=\"trouble sleeping, confused mind, restless heart. All out of tune\""
      ],
      "metadata": {
        "id": "6RjAyCLmDio_"
      },
      "execution_count": 69,
      "outputs": []
    },
    {
      "cell_type": "code",
      "source": [
        "text=preprocessing(text)"
      ],
      "metadata": {
        "id": "lRaAd4WwDio_"
      },
      "execution_count": 70,
      "outputs": []
    },
    {
      "cell_type": "code",
      "source": [
        "def predi(x):\n",
        "    vec=vector.transform([text])\n",
        "    result=model.predict(vec)[0]\n",
        "\n",
        "    return result"
      ],
      "metadata": {
        "id": "jZfswm7YDio_"
      },
      "execution_count": 71,
      "outputs": []
    },
    {
      "cell_type": "code",
      "source": [
        "predi(text)"
      ],
      "metadata": {
        "id": "kLq7zsQbDio_",
        "outputId": "c66cfaec-1828-43c8-b322-2ad0d64d8635",
        "colab": {
          "base_uri": "https://localhost:8080/",
          "height": 35
        }
      },
      "execution_count": 72,
      "outputs": [
        {
          "output_type": "execute_result",
          "data": {
            "text/plain": [
              "'Anxiety'"
            ],
            "application/vnd.google.colaboratory.intrinsic+json": {
              "type": "string"
            }
          },
          "metadata": {},
          "execution_count": 72
        }
      ]
    },
    {
      "cell_type": "code",
      "source": [
        "text='It shows I have posted but I cannot find my post back here Am I not allowed to post here?'"
      ],
      "metadata": {
        "id": "85-Tt6JkDipA"
      },
      "execution_count": 73,
      "outputs": []
    },
    {
      "cell_type": "code",
      "source": [
        "text='i want to kill her'"
      ],
      "metadata": {
        "id": "cZBubDKE5TrP"
      },
      "execution_count": 83,
      "outputs": []
    },
    {
      "cell_type": "code",
      "source": [
        "text=preprocessing(text)"
      ],
      "metadata": {
        "id": "OvgDV397DipA"
      },
      "execution_count": 84,
      "outputs": []
    },
    {
      "cell_type": "code",
      "source": [
        "predi(text)"
      ],
      "metadata": {
        "id": "0PGgOfsVDipA",
        "outputId": "5cd8b926-b7ba-4554-f9a9-fb0b2b1b3230",
        "colab": {
          "base_uri": "https://localhost:8080/",
          "height": 35
        }
      },
      "execution_count": 86,
      "outputs": [
        {
          "output_type": "execute_result",
          "data": {
            "text/plain": [
              "'Normal'"
            ],
            "application/vnd.google.colaboratory.intrinsic+json": {
              "type": "string"
            }
          },
          "metadata": {},
          "execution_count": 86
        }
      ]
    },
    {
      "cell_type": "markdown",
      "source": [
        "# 🏁 **Conclusion** 🎯\n",
        "- The model demonstrates strong performance in predicting mental health statuses such as `Anxiety`, `Normal`, `Depression`, `Suicidal`, `Stress`, `Bipolar`, and `Personality Disorder`.\n",
        "- This analysis shows the importance of data preprocessing and feature extraction using TF-IDF vectorization in achieving accurate results.\n",
        "- The high accuracy and precision scores of the model suggest that it can be a valuable tool in identifying mental health issues based on text input.\n",
        "\n",
        "## 📈 **Suggestions for Future Work** 💡\n",
        "- **Data Enhancement** 🗂️: Incorporating more diverse data sources could improve the model's robustness and generalizability.\n",
        "- **Model Tuning** ⚙️: Exploring other machine learning models or deep learning approaches may yield even better performance.\n",
        "- **Real-time Application** 🕒: Integrating this model into a real-time application can help in providing immediate support to individuals in need.\n",
        "\n",
        "---\n",
        "\n",
        "# 🙏 **Thank You for Visiting This Notebook!** 🙌\n",
        "We hope this analysis provides valuable insights and encourages further exploration in the field of mental health sentiment analysis. If you have any questions or suggestions, feel free to reach out! 😊"
      ],
      "metadata": {
        "id": "v9RhGSjTDipA"
      }
    },
    {
      "cell_type": "code",
      "source": [
        "import joblib as j\n",
        "\n",
        "# Save the vectorizer and model\n",
        "j.dump(vec, 'vectorizer.pkl')\n",
        "j.dump(rf, 'model.pkl')\n"
      ],
      "metadata": {
        "colab": {
          "base_uri": "https://localhost:8080/"
        },
        "id": "dMds3rPkrW06",
        "outputId": "75439996-a8ea-4ee0-d00b-d0df38deec03"
      },
      "execution_count": 76,
      "outputs": [
        {
          "output_type": "execute_result",
          "data": {
            "text/plain": [
              "['model.pkl']"
            ]
          },
          "metadata": {},
          "execution_count": 76
        }
      ]
    },
    {
      "cell_type": "code",
      "source": [
        "import joblib\n",
        "\n",
        "# Load the model and vectorizer\n",
        "model = joblib.load('model.pkl')\n",
        "vectorizer = joblib.load('vectorizer.pkl')\n",
        "\n",
        "print(\"Model type:\", type(model))\n",
        "print(\"Vectorizer type:\", type(vectorizer))\n"
      ],
      "metadata": {
        "colab": {
          "base_uri": "https://localhost:8080/"
        },
        "id": "3QHdxdq4rauB",
        "outputId": "622fee8d-4854-4e85-f7c3-74748efa78b5"
      },
      "execution_count": 77,
      "outputs": [
        {
          "output_type": "stream",
          "name": "stdout",
          "text": [
            "Model type: <class 'sklearn.ensemble._forest.RandomForestClassifier'>\n",
            "Vectorizer type: <class 'sklearn.feature_extraction.text.TfidfVectorizer'>\n"
          ]
        }
      ]
    },
    {
      "cell_type": "code",
      "source": [
        "import sklearn\n",
        "print(sklearn.__version__)\n"
      ],
      "metadata": {
        "colab": {
          "base_uri": "https://localhost:8080/"
        },
        "id": "vnzFWmXk4acY",
        "outputId": "334f7d37-5f49-43f6-c502-744db698c1ab"
      },
      "execution_count": 79,
      "outputs": [
        {
          "output_type": "stream",
          "name": "stdout",
          "text": [
            "1.3.2\n"
          ]
        }
      ]
    },
    {
      "cell_type": "code",
      "source": [
        "pip freeze > requirements.txt\n"
      ],
      "metadata": {
        "id": "UhH1Hdv-3K6C"
      },
      "execution_count": 78,
      "outputs": []
    },
    {
      "cell_type": "code",
      "source": [
        "i am sleep deprived since 2 days much tense about quiz what to do"
      ],
      "metadata": {
        "id": "ZgpJbKakr2e2"
      },
      "execution_count": null,
      "outputs": []
    }
  ]
}